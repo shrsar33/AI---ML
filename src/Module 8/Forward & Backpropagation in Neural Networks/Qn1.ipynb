{
 "cells": [
  {
   "cell_type": "code",
   "execution_count": null,
   "metadata": {},
   "outputs": [],
   "source": [
    "\n",
    "import numpy as np\n",
    "import math\n",
    "\n",
    "# Task 1: Matrix Multiplication\n",
    "X = np.array([0.5, 1.0])\n",
    "W = np.array([[0.2, 0.3], [0.4, 0.1]])\n",
    "weighted_sum = np.dot(X, W)\n",
    "print(\"Weighted Sum:\", weighted_sum)\n",
    "\n",
    "# Task 2: Adding Bias Vector\n",
    "B = np.array([0.1, 0.2])\n",
    "result_with_bias = weighted_sum + B\n",
    "print(\"Result with Bias:\", result_with_bias)\n",
    "\n",
    "# Task 3: Transpose Operation\n",
    "W_transpose = W.T\n",
    "print(\"Transpose of W:\\n\", W_transpose)\n",
    "\n",
    "# Task 1: Sigmoid Function\n",
    "def sigmoid(x):\n",
    "    return 1 / (1 + math.exp(-x))\n",
    "\n",
    "z1 = 0.7\n",
    "sigmoid_activation = sigmoid(z1)\n",
    "print(\"Sigmoid Activation:\", sigmoid_activation)\n",
    "\n",
    "# Task 2: ReLU Function\n",
    "def relu(x):\n",
    "    return max(0, x)\n",
    "\n",
    "z2 = 0.55\n",
    "relu_activation = relu(z2)\n",
    "print(\"ReLU Activation:\", relu_activation)\n",
    "\n",
    "# Task 3: Softmax Function\n",
    "def softmax(Z):\n",
    "    exp_Z = np.exp(Z)\n",
    "    return exp_Z / np.sum(exp_Z)\n",
    "\n",
    "Z = np.array([1.0, 0.5, 0.2])\n",
    "softmax_activation = softmax(Z)\n",
    "print(\"Softmax Activation:\", softmax_activation)\n",
    "\n"
   ]
  }
 ],
 "metadata": {
  "kernelspec": {
   "display_name": "Python 3",
   "language": "python",
   "name": "python3"
  },
  "language_info": {
   "codemirror_mode": {
    "name": "ipython",
    "version": 3
   },
   "file_extension": ".py",
   "mimetype": "text/x-python",
   "name": "python",
   "nbconvert_exporter": "python",
   "pygments_lexer": "ipython3",
   "version": "3.10.12"
  }
 },
 "nbformat": 4,
 "nbformat_minor": 2
}
