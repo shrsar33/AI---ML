{
 "cells": [
  {
   "cell_type": "code",
   "execution_count": null,
   "metadata": {},
   "outputs": [],
   "source": [
    "import numpy as np\n",
    "import matplotlib.pyplot as plt\n",
    "from sklearn.neural_network import MLPRegressor\n",
    "from sklearn.model_selection import train_test_split\n",
    "\n",
    "# Task 1: Neuron Calculation\n",
    "def sigmoid(x):\n",
    "    return 1 / (1 + np.exp(-x))\n",
    "\n",
    "inputs = np.array([1, 2, 3])\n",
    "weights = np.array([0.5, 0.2, 0.3])\n",
    "bias = 1\n",
    "output = sigmoid(np.dot(inputs, weights) + bias)\n",
    "print(\"Neuron output:\", output)\n",
    "\n",
    "# Task 2: Adjusting Weights\n",
    "weights = np.array([0.6, 0.3, 0.4])\n",
    "output = sigmoid(np.dot(inputs, weights) + bias)\n",
    "print(\"Neuron output after adjusting weights:\", output)\n",
    "\n",
    "# Task 3: Role of Bias\n",
    "bias = 2\n",
    "output = sigmoid(np.dot(inputs, weights) + bias)\n",
    "print(\"Neuron output after adjusting bias:\", output)\n",
    "\n",
    "# Network Structure Visualization\n",
    "# Input Layer (3 neurons)\n",
    "# Hidden Layer (2 neurons)\n",
    "# Output Layer (1 neuron)\n",
    "\n",
    "# Information Flow in Network Layers\n",
    "# Input Layer -> Hidden Layer -> Output Layer\n",
    "\n",
    "# Number of Layers Impact\n",
    "X = np.random.rand(100, 3)\n",
    "y = np.random.rand(100)\n",
    "\n",
    "X_train, X_test, y_train, y_test = train_test_split(X, y, test_size=0.2)\n",
    "\n",
    "models = []\n",
    "for i in range(1, 6):\n",
    "    model = MLPRegressor(hidden_layer_sizes=(10,) * i)\n",
    "    model.fit(X_train, y_train)\n",
    "    models.append(model)\n",
    "\n",
    "for i, model in enumerate(models):\n",
    "    print(f\"Model with {i+1} hidden layer(s): Score = {model.score(X_test, y_test)}\")\n",
    "\n",
    "# Plot the scores\n",
    "scores = [model.score(X_test, y_test) for model in models]\n",
    "plt.plot(range(1, 6), scores)\n",
    "plt.xlabel(\"Number of Hidden Layers\")\n",
    "plt.ylabel(\"Model Score\")\n",
    "plt.show()\n"
   ]
  }
 ],
 "metadata": {
  "kernelspec": {
   "display_name": "Python 3",
   "language": "python",
   "name": "python3"
  },
  "language_info": {
   "codemirror_mode": {
    "name": "ipython",
    "version": 3
   },
   "file_extension": ".py",
   "mimetype": "text/x-python",
   "name": "python",
   "nbconvert_exporter": "python",
   "pygments_lexer": "ipython3",
   "version": "3.10.12"
  }
 },
 "nbformat": 4,
 "nbformat_minor": 2
}
