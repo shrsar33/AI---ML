{
 "cells": [
  {
   "cell_type": "markdown",
   "metadata": {},
   "source": [
    "Title: Grouping & Aggregating Data using Pandas<br>\n",
    "Objective: Learn how to group data and perform aggregations on these groups."
   ]
  },
  {
   "cell_type": "markdown",
   "metadata": {},
   "source": [
    "Task 1: Grouping by a Single Column<br>\n",
    "\n",
    "Task: Group the dataset by 'region' and calculate total sales per region.<br>\n",
    "Steps:<br>\n",
    "10. Load the dataset.<br>\n",
    "11. Use groupby('region') on the DataFrame.<br>\n",
    "12. Apply .sum() to the 'sales' column."
   ]
  },
  {
   "cell_type": "code",
   "execution_count": 1,
   "metadata": {},
   "outputs": [
    {
     "name": "stdout",
     "output_type": "stream",
     "text": [
      "Available files:\n",
      "\n",
      "No CSV files found in the current directory.\n",
      "Please place a CSV file with 'region' and 'sales' columns in the current directory.\n"
     ]
    }
   ],
   "source": [
    "import pandas as pd\n",
    "import os\n",
    "\n",
    "# Step 10: Load the dataset\n",
    "# List available files\n",
    "print(\"Available files:\")\n",
    "for file in os.listdir():\n",
    "    if file.endswith('.csv'):\n",
    "        print(f\"- {file}\")\n",
    "\n",
    "# Use the first CSV file found or specify the filename\n",
    "csv_files = [f for f in os.listdir() if f.endswith('.csv')]\n",
    "if csv_files:\n",
    "    filename = csv_files[0]\n",
    "    print(f\"\\nUsing file: {filename}\")\n",
    "    df = pd.read_csv(filename)\n",
    "    \n",
    "    # Step 11: Use groupby('region') on the DataFrame\n",
    "    # Step 12: Apply .sum() to the 'sales' column\n",
    "    region_sales = df.groupby('region')['sales'].sum()\n",
    "    \n",
    "    print(\"\\nTotal sales per region:\")\n",
    "    print(region_sales)\n",
    "else:\n",
    "    print(\"\\nNo CSV files found in the current directory.\")\n",
    "    print(\"Please place a CSV file with 'region' and 'sales' columns in the current directory.\")"
   ]
  },
  {
   "cell_type": "markdown",
   "metadata": {},
   "source": [
    "Task 2: Grouping by Multiple Columns<br>\n",
    "\n",
    "Task: Group the dataset by 'region' and 'category', then find the average sales.<br>\n",
    "Steps:<br>\n",
    "13. Group by ['region', 'category'].<br>\n",
    "14. Use .mean() on the 'sales' column.<br>\n",
    "15. Examine the resulting DataFrame structure."
   ]
  },
  {
   "cell_type": "code",
   "execution_count": 2,
   "metadata": {},
   "outputs": [
    {
     "name": "stdout",
     "output_type": "stream",
     "text": [
      "Available files:\n",
      "\n",
      "No CSV files found in the current directory.\n",
      "Please place a CSV file with 'region', 'category', and 'sales' columns in the current directory.\n"
     ]
    }
   ],
   "source": [
    "import pandas as pd\n",
    "import os\n",
    "\n",
    "# List available files\n",
    "print(\"Available files:\")\n",
    "for file in os.listdir():\n",
    "    if file.endswith('.csv'):\n",
    "        print(f\"- {file}\")\n",
    "\n",
    "# Use the first CSV file found\n",
    "csv_files = [f for f in os.listdir() if f.endswith('.csv')]\n",
    "if csv_files:\n",
    "    filename = csv_files[0]\n",
    "    print(f\"\\nUsing file: {filename}\")\n",
    "    df = pd.read_csv(filename)\n",
    "    \n",
    "    # Step 13: Group by ['region', 'category']\n",
    "    # Step 14: Use .mean() on the 'sales' column\n",
    "    region_category_avg = df.groupby(['region', 'category'])['sales'].mean()\n",
    "    \n",
    "    print(\"\\nAverage sales by region and category:\")\n",
    "    print(region_category_avg)\n",
    "    \n",
    "    # Step 15: Examine the resulting DataFrame structure\n",
    "    print(\"\\nDataFrame structure information:\")\n",
    "    print(f\"Type: {type(region_category_avg)}\")\n",
    "    print(f\"Shape: {region_category_avg.shape}\")\n",
    "    print(f\"Index type: {type(region_category_avg.index)}\")\n",
    "    print(f\"Index levels: {region_category_avg.index.names}\")\n",
    "    \n",
    "    # Convert to regular DataFrame for easier viewing\n",
    "    reset_df = region_category_avg.reset_index()\n",
    "    print(\"\\nAs regular DataFrame (reset_index):\")\n",
    "    print(reset_df.head())\n",
    "else:\n",
    "    print(\"\\nNo CSV files found in the current directory.\")\n",
    "    print(\"Please place a CSV file with 'region', 'category', and 'sales' columns in the current directory.\")"
   ]
  },
  {
   "cell_type": "markdown",
   "metadata": {},
   "source": [
    "Task 3: Aggregating Multiple Functions<br>\n",
    "\n",
    "Task: Group data by 'category' and apply multiple aggregation functions (sum and count) on 'quantity'.<br>\n",
    "Steps:<br>\n",
    "16. Group by 'category'.<br>\n",
    "17. Use .agg(['sum', 'count']) on 'quantity'.<br>\n",
    "18. Analyze the result to understand how multiple aggregations work."
   ]
  },
  {
   "cell_type": "code",
   "execution_count": 3,
   "metadata": {},
   "outputs": [
    {
     "name": "stdout",
     "output_type": "stream",
     "text": [
      "Available files:\n",
      "\n",
      "No CSV files found in the current directory.\n",
      "Please place a CSV file with 'category' and 'quantity' columns in the current directory.\n"
     ]
    }
   ],
   "source": [
    "import pandas as pd\n",
    "import os\n",
    "\n",
    "# List available files\n",
    "print(\"Available files:\")\n",
    "for file in os.listdir():\n",
    "    if file.endswith('.csv'):\n",
    "        print(f\"- {file}\")\n",
    "\n",
    "# Use the first CSV file found\n",
    "csv_files = [f for f in os.listdir() if f.endswith('.csv')]\n",
    "if csv_files:\n",
    "    filename = csv_files[0]\n",
    "    print(f\"\\nUsing file: {filename}\")\n",
    "    df = pd.read_csv(filename)\n",
    "    \n",
    "    # Step 16: Group by 'category'\n",
    "    # Step 17: Use .agg(['sum', 'count']) on 'quantity'\n",
    "    category_agg = df.groupby('category')['quantity'].agg(['sum', 'count'])\n",
    "    \n",
    "    print(\"\\nMultiple aggregations (sum and count) by category:\")\n",
    "    print(category_agg)\n",
    "    \n",
    "    # Step 18: Analyze the result\n",
    "    print(\"\\nAnalysis of multiple aggregations:\")\n",
    "    print(f\"DataFrame shape: {category_agg.shape}\")\n",
    "    print(f\"Column names: {category_agg.columns.tolist()}\")\n",
    "    print(f\"Index name: {category_agg.index.name}\")\n",
    "    \n",
    "    # Calculate average quantity per category using the aggregated results\n",
    "    category_agg['average'] = category_agg['sum'] / category_agg['count']\n",
    "    print(\"\\nAdding calculated average column:\")\n",
    "    print(category_agg)\n",
    "    \n",
    "    # Sort by sum to see which category has highest total quantity\n",
    "    print(\"\\nCategories sorted by total quantity (descending):\")\n",
    "    print(category_agg.sort_values('sum', ascending=False))\n",
    "else:\n",
    "    print(\"\\nNo CSV files found in the current directory.\")\n",
    "    print(\"Please place a CSV file with 'category' and 'quantity' columns in the current directory.\")"
   ]
  }
 ],
 "metadata": {
  "kernelspec": {
   "display_name": "Python 3",
   "language": "python",
   "name": "python3"
  },
  "language_info": {
   "codemirror_mode": {
    "name": "ipython",
    "version": 3
   },
   "file_extension": ".py",
   "mimetype": "text/x-python",
   "name": "python",
   "nbconvert_exporter": "python",
   "pygments_lexer": "ipython3",
   "version": "3.10.12"
  }
 },
 "nbformat": 4,
 "nbformat_minor": 2
}
