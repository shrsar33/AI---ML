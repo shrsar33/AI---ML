{
 "cells": [
  {
   "cell_type": "markdown",
   "metadata": {},
   "source": [
    "Title: Hands-on: Real-World Data Aggregation<br>\n",
    "Objective: Apply learned concepts to real-world data scenarios"
   ]
  },
  {
   "cell_type": "markdown",
   "metadata": {},
   "source": [
    "Task 1: Analyzing Sales by Region<br>\n",
    "\n",
    "Task: Use a real-world sales dataset to calculate yearly sales trends by region.<br>\n",
    " Steps:<br>\n",
    " 28. Acquire a dataset containing columns such as 'date', 'region', and 'sales'.<br>\n",
    " 29. Extract the year from the 'date' column.<br>\n",
    " 30. Group by 'year' and 'region' to apply the sum aggregation on 'sales'"
   ]
  },
  {
   "cell_type": "code",
   "execution_count": null,
   "metadata": {},
   "outputs": [],
   "source": [
    "import pandas as pd\n",
    "\n",
    "# Sample dataset\n",
    "data = {\n",
    "    'date': ['2023-01-01', '2023-02-01', '2024-01-01', '2024-02-01'],\n",
    "    'region': ['Americas', 'Europe', 'Americas', 'Europe'],\n",
    "    'sales': [100, 200, 150, 250]\n",
    "}\n",
    "df = pd.DataFrame(data)\n",
    "\n",
    "# Extract year from date column\n",
    "df['year'] = pd.to_datetime(df['date']).dt.year\n",
    "\n",
    "# Group by year and region, apply sum aggregation on sales\n",
    "yearly_sales_trends = df.groupby(['year', 'region'])['sales'].sum().reset_index()\n",
    "\n",
    "print(yearly_sales_trends)\n"
   ]
  },
  {
   "cell_type": "markdown",
   "metadata": {},
   "source": [
    "Task 2: Customer Purchase Patterns<br>\n",
    "\n",
    "Task: Find the top 5 customers by the total amount spent using a purchases dataset.<br>\n",
    " Steps:<br>\n",
    " 31. Load a dataset with 'customer_id' and 'amount_spent'.<br>\n",
    " 32. Group by 'customer_id'.<br>\n",
    " 33. Use .sum() on 'amount_spent' and sort values"
   ]
  },
  {
   "cell_type": "code",
   "execution_count": null,
   "metadata": {},
   "outputs": [],
   "source": [
    "import pandas as pd\n",
    "\n",
    "# Sample dataset\n",
    "data = {\n",
    "    'date': ['2023-01-01', '2023-02-01', '2024-01-01', '2024-02-01'],\n",
    "    'region': ['Americas', 'Europe', 'Americas', 'Europe'],\n",
    "    'sales': [100, 200, 150, 250]\n",
    "}\n",
    "\n",
    "# Create DataFrame\n",
    "df = pd.DataFrame(data)\n",
    "\n",
    "# Convert 'date' column to datetime and extract year\n",
    "df['date'] = pd.to_datetime(df['date'])\n",
    "df['year'] = df['date'].dt.year\n",
    "\n",
    "# Group by 'year' and 'region', apply sum aggregation on 'sales'\n",
    "yearly_sales_trends = df.groupby(['year', 'region'])['sales'].sum().reset_index()\n",
    "\n",
    "# Print the result\n",
    "print(yearly_sales_trends)\n"
   ]
  },
  {
   "cell_type": "markdown",
   "metadata": {},
   "source": [
    " Task 3: Seasonality Analysis<br>\n",
    "\n",
    " Task: Determine which months have the highest and lowest sales for a retail dataset.<br>\n",
    " Steps:<br>\n",
    " 34. Use a dataset with 'transaction_date' and 'sales'.<br>\n",
    " 35. Extract the month from 'transaction_date'.<br>\n",
    " 36. Group by 'month' and sum 'sales', then sort to find extremes"
   ]
  },
  {
   "cell_type": "code",
   "execution_count": null,
   "metadata": {},
   "outputs": [],
   "source": [
    "\n",
    "import pandas as pd\n",
    "\n",
    "# Sample dataset\n",
    "data = {\n",
    "    'transaction_date': ['2023-01-01', '2023-02-01', '2023-03-01', '2023-04-01', '2023-05-01', '2023-06-01',\n",
    "                         '2023-07-01', '2023-08-01', '2023-09-01', '2023-10-01', '2023-11-01', '2023-12-01'],\n",
    "    'sales': [100, 120, 150, 180, 200, 220, 250, 280, 300, 320, 350, 380]\n",
    "}\n",
    "\n",
    "# Create DataFrame\n",
    "df = pd.DataFrame(data)\n",
    "\n",
    "# Convert 'transaction_date' column to datetime and extract month\n",
    "df['transaction_date'] = pd.to_datetime(df['transaction_date'])\n",
    "df['month'] = df['transaction_date'].dt.month\n",
    "\n",
    "# Group by 'month', sum 'sales', and sort to find extremes\n",
    "monthly_sales = df.groupby('month')['sales'].sum().reset_index()\n",
    "monthly_sales = monthly_sales.sort_values(by='sales', ascending=False)\n",
    "\n",
    "# Print the result\n",
    "print(\"Monthly Sales:\")\n",
    "print(monthly_sales)\n",
    "\n",
    "# Find the month with the highest and lowest sales\n",
    "highest_sales_month = monthly_sales.iloc[0]\n",
    "lowest_sales_month = monthly_sales.iloc[-1]\n",
    "\n",
    "print(f\"\\nMonth with the highest sales: {highest_sales_month['month']} with sales of {highest_sales_month['sales']}\")\n",
    "print(f\"Month with the lowest sales: {lowest_sales_month['month']} with sales of {lowest_sales_month['sales']}\")\n",
    "\n"
   ]
  }
 ],
 "metadata": {
  "kernelspec": {
   "display_name": "Python 3",
   "language": "python",
   "name": "python3"
  },
  "language_info": {
   "codemirror_mode": {
    "name": "ipython",
    "version": 3
   },
   "file_extension": ".py",
   "mimetype": "text/x-python",
   "name": "python",
   "nbconvert_exporter": "python",
   "pygments_lexer": "ipython3",
   "version": "3.10.12"
  }
 },
 "nbformat": 4,
 "nbformat_minor": 2
}
