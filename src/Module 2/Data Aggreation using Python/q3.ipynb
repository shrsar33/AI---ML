{
 "cells": [
  {
   "cell_type": "markdown",
   "metadata": {},
   "source": [
    "Pivot Tables & Advanced Aggregations<br>\n",
    "Objective: Utilize pivot tables for complex aggregation tasks."
   ]
  },
  {
   "cell_type": "markdown",
   "metadata": {},
   "source": [
    "Task 1: Creating a Basic Pivot Table<br>\n",
    "Task: Create a pivot table that shows the total sales for each 'category' across 'years'.<br>\n",
    "Steps:<br>\n",
    "19. Use pandas pivot_table() function.<br>\n",
    "20. Set index='year' and columns='category' .<br>\n",
    "21. Define the value parameter as 'sales' and aggregation function as np.sum ."
   ]
  },
  {
   "cell_type": "code",
   "execution_count": null,
   "metadata": {},
   "outputs": [],
   "source": [
    "import pandas as pd\n",
    "import numpy as np\n",
    "import os\n",
    "\n",
    "# List available files\n",
    "print(\"Available files:\")\n",
    "for file in os.listdir():\n",
    "    if file.endswith('.csv'):\n",
    "        print(f\"- {file}\")\n",
    "\n",
    "# Use the first CSV file found\n",
    "csv_files = [f for f in os.listdir() if f.endswith('.csv')]\n",
    "if csv_files:\n",
    "    filename = csv_files[0]\n",
    "    print(f\"\\nUsing file: {filename}\")\n",
    "    df = pd.read_csv(filename)\n",
    "    \n",
    "    # Check if 'year' column exists, if not try to extract from date column\n",
    "    if 'year' not in df.columns:\n",
    "        # Try to find a date column\n",
    "        date_columns = [col for col in df.columns if any(x in col.lower() for x in ['date', 'time', 'year'])]\n",
    "        \n",
    "        if date_columns:\n",
    "            # Use the first found date column\n",
    "            date_col = date_columns[0]\n",
    "            print(f\"Extracting year from '{date_col}' column\")\n",
    "            \n",
    "            # Try to convert to datetime and extract year\n",
    "            try:\n",
    "                df['year'] = pd.to_datetime(df[date_col]).dt.year\n",
    "                print(\"Successfully extracted year from date column\")\n",
    "            except:\n",
    "                print(f\"Could not extract year from '{date_col}'. Creating sample year column for demonstration\")\n",
    "                # Create a sample year column for demonstration\n",
    "                df['year'] = np.random.choice([2020, 2021, 2022, 2023], size=len(df))\n",
    "        else:\n",
    "            print(\"No date column found. Creating sample year column for demonstration\")\n",
    "            # Create a sample year column for demonstration\n",
    "            df['year'] = np.random.choice([2020, 2021, 2022, 2023], size=len(df))\n",
    "    \n",
    "    # Step 19: Use pandas pivot_table() function\n",
    "    # Step 20: Set index='year' and columns='category'\n",
    "    # Step 21: Define the value parameter as 'sales' and aggregation function as np.sum\n",
    "    pivot_table = pd.pivot_table(\n",
    "        df,\n",
    "        values='sales',\n",
    "        index='year',\n",
    "        columns='category',\n",
    "        aggfunc=np.sum\n",
    "    )\n",
    "    \n",
    "    print(\"\\nPivot Table (Total Sales by Year and Category):\")\n",
    "    print(pivot_table)\n",
    "    \n",
    "    # Additional information about the pivot table\n",
    "    print(\"\\nPivot Table Information:\")\n",
    "    print(f\"Shape: {pivot_table.shape}\")\n",
    "    print(f\"Index (years): {pivot_table.index.tolist()}\")\n",
    "    print(f\"Columns (categories): {pivot_table.columns.tolist()}\")\n",
    "    \n",
    "    # Add row and column totals\n",
    "    pivot_table['Total'] = pivot_table.sum(axis=1)\n",
    "    pivot_table.loc['Total'] = pivot_table.sum()\n",
    "    \n",
    "    print(\"\\nPivot Table with Totals:\")\n",
    "    print(pivot_table)\n",
    "else:\n",
    "    print(\"\\nNo CSV files found in the current directory.\")\n",
    "    print(\"Please place a CSV file with 'category', 'sales' columns in the current directory.\")"
   ]
  },
  {
   "cell_type": "markdown",
   "metadata": {},
   "source": [
    "Task 2: Pivot Table with Multiple Aggregations<br>\n",
    "\n",
    "Task: Generate a pivot table with both mean and max of 'profit' for 'category' each month.<br>\n",
    "Steps:<br>\n",
    "22. Create a pivot table.<br>\n",
    "23. Use aggfunc=['mean', 'max'] .<br>\n",
    "24. Analyze the pivot table output."
   ]
  },
  {
   "cell_type": "code",
   "execution_count": 2,
   "metadata": {},
   "outputs": [],
   "source": [
    "# Write your code from here"
   ]
  },
  {
   "cell_type": "markdown",
   "metadata": {},
   "source": [
    "Task 3: Advanced Pivot Table with Margins<br>\n",
    "\n",
    "Task: Create a pivot table that includes subtotals for each 'region' and 'category'.<br>\n",
    "Steps:<br>\n",
    "25. Use pivot_table() with margins=True .<br>\n",
    "26. Set the index and columns appropriately.<br>\n",
    "27. Validate subtotal correctness by summing manually."
   ]
  },
  {
   "cell_type": "code",
   "execution_count": 3,
   "metadata": {},
   "outputs": [],
   "source": [
    "# Write your code from here"
   ]
  }
 ],
 "metadata": {
  "kernelspec": {
   "display_name": "Python 3",
   "language": "python",
   "name": "python3"
  },
  "language_info": {
   "codemirror_mode": {
    "name": "ipython",
    "version": 3
   },
   "file_extension": ".py",
   "mimetype": "text/x-python",
   "name": "python",
   "nbconvert_exporter": "python",
   "pygments_lexer": "ipython3",
   "version": "3.12.5"
  }
 },
 "nbformat": 4,
 "nbformat_minor": 2
}
