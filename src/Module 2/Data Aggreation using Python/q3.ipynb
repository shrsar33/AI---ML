{
 "cells": [
  {
   "cell_type": "markdown",
   "metadata": {},
   "source": [
    "Pivot Tables & Advanced Aggregations<br>\n",
    "Objective: Utilize pivot tables for complex aggregation tasks."
   ]
  },
  {
   "cell_type": "markdown",
   "metadata": {},
   "source": [
    "Task 1: Creating a Basic Pivot Table<br>\n",
    "Task: Create a pivot table that shows the total sales for each 'category' across 'years'.<br>\n",
    "Steps:<br>\n",
    "19. Use pandas pivot_table() function.<br>\n",
    "20. Set index='year' and columns='category' .<br>\n",
    "21. Define the value parameter as 'sales' and aggregation function as np.sum ."
   ]
  },
  {
   "cell_type": "code",
   "execution_count": 5,
   "metadata": {},
   "outputs": [
    {
     "name": "stdout",
     "output_type": "stream",
     "text": [
      "Available files:\n",
      "\n",
      "No CSV files found in the current directory.\n",
      "Please place a CSV file with 'category', 'sales' columns in the current directory.\n"
     ]
    }
   ],
   "source": [
    "import pandas as pd\n",
    "import numpy as np\n",
    "import os\n",
    "\n",
    "# List available files\n",
    "print(\"Available files:\")\n",
    "for file in os.listdir():\n",
    "    if file.endswith('.csv'):\n",
    "        print(f\"- {file}\")\n",
    "\n",
    "# Use the first CSV file found\n",
    "csv_files = [f for f in os.listdir() if f.endswith('.csv')]\n",
    "if csv_files:\n",
    "    filename = csv_files[0]\n",
    "    print(f\"\\nUsing file: {filename}\")\n",
    "    df = pd.read_csv(filename)\n",
    "    \n",
    "    # Check if 'year' column exists, if not try to extract from date column\n",
    "    if 'year' not in df.columns:\n",
    "        # Try to find a date column\n",
    "        date_columns = [col for col in df.columns if any(x in col.lower() for x in ['date', 'time', 'year'])]\n",
    "        \n",
    "        if date_columns:\n",
    "            # Use the first found date column\n",
    "            date_col = date_columns[0]\n",
    "            print(f\"Extracting year from '{date_col}' column\")\n",
    "            \n",
    "            # Try to convert to datetime and extract year\n",
    "            try:\n",
    "                df['year'] = pd.to_datetime(df[date_col]).dt.year\n",
    "                print(\"Successfully extracted year from date column\")\n",
    "            except:\n",
    "                print(f\"Could not extract year from '{date_col}'. Creating sample year column for demonstration\")\n",
    "                # Create a sample year column for demonstration\n",
    "                df['year'] = np.random.choice([2020, 2021, 2022, 2023], size=len(df))\n",
    "        else:\n",
    "            print(\"No date column found. Creating sample year column for demonstration\")\n",
    "            # Create a sample year column for demonstration\n",
    "            df['year'] = np.random.choice([2020, 2021, 2022, 2023], size=len(df))\n",
    "    \n",
    "    # Step 19: Use pandas pivot_table() function\n",
    "    # Step 20: Set index='year' and columns='category'\n",
    "    # Step 21: Define the value parameter as 'sales' and aggregation function as np.sum\n",
    "    pivot_table = pd.pivot_table(\n",
    "        df,\n",
    "        values='sales',\n",
    "        index='year',\n",
    "        columns='category',\n",
    "        aggfunc=np.sum\n",
    "    )\n",
    "    \n",
    "    print(\"\\nPivot Table (Total Sales by Year and Category):\")\n",
    "    print(pivot_table)\n",
    "    \n",
    "    # Additional information about the pivot table\n",
    "    print(\"\\nPivot Table Information:\")\n",
    "    print(f\"Shape: {pivot_table.shape}\")\n",
    "    print(f\"Index (years): {pivot_table.index.tolist()}\")\n",
    "    print(f\"Columns (categories): {pivot_table.columns.tolist()}\")\n",
    "    \n",
    "    # Add row and column totals\n",
    "    pivot_table['Total'] = pivot_table.sum(axis=1)\n",
    "    pivot_table.loc['Total'] = pivot_table.sum()\n",
    "    \n",
    "    print(\"\\nPivot Table with Totals:\")\n",
    "    print(pivot_table)\n",
    "else:\n",
    "    print(\"\\nNo CSV files found in the current directory.\")\n",
    "    print(\"Please place a CSV file with 'category', 'sales' columns in the current directory.\")"
   ]
  },
  {
   "cell_type": "markdown",
   "metadata": {},
   "source": [
    "Task 2: Pivot Table with Multiple Aggregations<br>\n",
    "\n",
    "Task: Generate a pivot table with both mean and max of 'profit' for 'category' each month.<br>\n",
    "Steps:<br>\n",
    "22. Create a pivot table.<br>\n",
    "23. Use aggfunc=['mean', 'max'] .<br>\n",
    "24. Analyze the pivot table output."
   ]
  },
  {
   "cell_type": "code",
   "execution_count": null,
   "metadata": {},
   "outputs": [
    {
     "name": "stdout",
     "output_type": "stream",
     "text": [
      "           mean                                                          \\\n",
      "month        1      2      3      4      5      6      7      8      9    \n",
      "category                                                                  \n",
      "A         272.0  147.0  217.0    NaN    NaN    NaN    NaN    NaN    NaN   \n",
      "B           NaN    NaN    NaN  292.0  423.0  351.0    NaN    NaN    NaN   \n",
      "C           NaN    NaN    NaN    NaN    NaN    NaN  295.0  459.0  109.0   \n",
      "D           NaN    NaN    NaN    NaN    NaN    NaN    NaN    NaN    NaN   \n",
      "\n",
      "                 ...    max                                                   \\\n",
      "month        10  ...     3      4      5      6      7      8      9      10   \n",
      "category         ...                                                           \n",
      "A           NaN  ...  217.0    NaN    NaN    NaN    NaN    NaN    NaN    NaN   \n",
      "B           NaN  ...    NaN  292.0  423.0  351.0    NaN    NaN    NaN    NaN   \n",
      "C           NaN  ...    NaN    NaN    NaN    NaN  295.0  459.0  109.0    NaN   \n",
      "D         311.0  ...    NaN    NaN    NaN    NaN    NaN    NaN    NaN  311.0   \n",
      "\n",
      "                        \n",
      "month        11     12  \n",
      "category                \n",
      "A           NaN    NaN  \n",
      "B           NaN    NaN  \n",
      "C           NaN    NaN  \n",
      "D         377.0  342.0  \n",
      "\n",
      "[4 rows x 24 columns]\n"
     ]
    },
    {
     "name": "stderr",
     "output_type": "stream",
     "text": [
      "/tmp/ipykernel_22853/1919144078.py:7: FutureWarning: 'M' is deprecated and will be removed in a future version, please use 'ME' instead.\n",
      "  'date': pd.date_range(start='2022-01-01', periods=12, freq='M'),\n"
     ]
    }
   ],
   "source": [
    "\n",
    "import pandas as pd\n",
    "import numpy as np\n",
    "\n",
    "# Create a sample DataFrame\n",
    "np.random.seed(0)\n",
    "data = {\n",
    "    'date': pd.date_range(start='2022-01-01', periods=12, freq='M'),\n",
    "    'category': np.repeat(['A', 'B', 'C', 'D'], 3),\n",
    "    'profit': np.random.randint(100, 500, size=12)\n",
    "}\n",
    "df = pd.DataFrame(data)\n",
    "\n",
    "# Extract month from 'date' column\n",
    "df['month'] = df['date'].dt.month\n",
    "\n",
    "# Create a pivot table with mean and max of 'profit' for 'category' each month\n",
    "pivot_table = pd.pivot_table(df, values='profit', index='category', columns='month', aggfunc=['mean', 'max'])\n",
    "\n",
    "print(pivot_table)\n"
   ]
  },
  {
   "cell_type": "markdown",
   "metadata": {},
   "source": [
    "Task 3: Advanced Pivot Table with Margins<br>\n",
    "\n",
    "Task: Create a pivot table that includes subtotals for each 'region' and 'category'.<br>\n",
    "Steps:<br>\n",
    "25. Use pivot_table() with margins=True .<br>\n",
    "26. Set the index and columns appropriately.<br>\n",
    "27. Validate subtotal correctness by summing manually."
   ]
  },
  {
   "cell_type": "code",
   "execution_count": 7,
   "metadata": {},
   "outputs": [
    {
     "name": "stdout",
     "output_type": "stream",
     "text": [
      "Pivot Table:\n",
      "category  Electronics  Fashion  Total\n",
      "region                               \n",
      "North             250      200    450\n",
      "South             300      650    950\n",
      "Total             550      850   1400\n",
      "\n",
      "Validating Subtotal Correctness:\n",
      "Region: North, Manual Sum: 450, Pivot Sum: 450\n",
      "Region: South, Manual Sum: 950, Pivot Sum: 950\n",
      "Category: Electronics, Manual Sum: 550, Pivot Sum: 550\n",
      "Category: Fashion, Manual Sum: 850, Pivot Sum: 850\n",
      "Grand Total - Manual: 1400, Pivot: 1400\n"
     ]
    }
   ],
   "source": [
    "import pandas as pd\n",
    "\n",
    "# Create a sample DataFrame\n",
    "data = {\n",
    "    'region': ['North', 'North', 'North', 'South', 'South', 'South'],\n",
    "    'category': ['Electronics', 'Fashion', 'Electronics', 'Fashion', 'Electronics', 'Fashion'],\n",
    "    'sales': [100, 200, 150, 250, 300, 400]\n",
    "}\n",
    "df = pd.DataFrame(data)\n",
    "\n",
    "# Create a pivot table with subtotals for each 'region' and 'category'\n",
    "pivot_table = pd.pivot_table(df, values='sales', index='region', columns='category', aggfunc='sum', margins=True, margins_name='Total')\n",
    "\n",
    "# Print the pivot table\n",
    "print(\"Pivot Table:\")\n",
    "print(pivot_table)\n",
    "\n",
    "# Validate subtotal correctness\n",
    "print(\"\\nValidating Subtotal Correctness:\")\n",
    "\n",
    "# Validate region subtotals\n",
    "for region in df['region'].unique():\n",
    "    manual_sum = df[df['region'] == region]['sales'].sum()\n",
    "    pivot_sum = pivot_table.loc[region, 'Total']\n",
    "    print(f\"Region: {region}, Manual Sum: {manual_sum}, Pivot Sum: {pivot_sum}\")\n",
    "\n",
    "# Validate category subtotals\n",
    "for category in df['category'].unique():\n",
    "    manual_sum = df[df['category'] == category]['sales'].sum()\n",
    "    pivot_sum = pivot_table.loc['Total', category]\n",
    "    print(f\"Category: {category}, Manual Sum: {manual_sum}, Pivot Sum: {pivot_sum}\")\n",
    "\n",
    "# Validate grand total\n",
    "manual_grand_total = df['sales'].sum()\n",
    "pivot_grand_total = pivot_table.loc['Total', 'Total']\n",
    "print(f\"Grand Total - Manual: {manual_grand_total}, Pivot: {pivot_grand_total}\")\n"
   ]
  }
 ],
 "metadata": {
  "kernelspec": {
   "display_name": "Python 3",
   "language": "python",
   "name": "python3"
  },
  "language_info": {
   "codemirror_mode": {
    "name": "ipython",
    "version": 3
   },
   "file_extension": ".py",
   "mimetype": "text/x-python",
   "name": "python",
   "nbconvert_exporter": "python",
   "pygments_lexer": "ipython3",
   "version": "3.10.12"
  }
 },
 "nbformat": 4,
 "nbformat_minor": 2
}
