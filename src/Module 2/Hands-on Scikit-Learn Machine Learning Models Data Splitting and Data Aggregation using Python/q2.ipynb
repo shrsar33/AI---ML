{
 "cells": [
  {
   "cell_type": "code",
   "execution_count": 1,
   "metadata": {},
   "outputs": [
    {
     "name": "stdout",
     "output_type": "stream",
     "text": [
      "Best score: 0.831\n",
      "Best parameters: {'max_depth': 5, 'min_samples_leaf': 1, 'min_samples_split': 2, 'n_estimators': 200}\n",
      "Validation accuracy: 0.810\n"
     ]
    }
   ],
   "source": [
    "import pandas as pd\n",
    "import numpy as np\n",
    "from sklearn.model_selection import train_test_split, GridSearchCV\n",
    "from sklearn.ensemble import RandomForestClassifier\n",
    "from sklearn.metrics import accuracy_score\n",
    "import seaborn as sns\n",
    "from sklearn.preprocessing import LabelEncoder\n",
    "\n",
    "# Load the dataset\n",
    "titanic = sns.load_dataset('titanic')\n",
    "\n",
    "# Drop unnecessary columns\n",
    "titanic = titanic.drop(['deck', 'class', 'who', 'alive', 'alone', 'embark_town'], axis=1)\n",
    "\n",
    "# Fill missing values in age with mean age\n",
    "titanic['age'] = titanic['age'].fillna(titanic['age'].mean())\n",
    "\n",
    "# Map sex to numerical values\n",
    "sex_mapping = {'male': 0, 'female': 1}\n",
    "titanic['sex'] = titanic['sex'].map(sex_mapping)\n",
    "\n",
    "# Encode embarked using LabelEncoder\n",
    "le = LabelEncoder()\n",
    "titanic['embarked'] = le.fit_transform(titanic['embarked'])\n",
    "\n",
    "# Define X and y\n",
    "X = titanic.drop(['survived'], axis=1)\n",
    "y = titanic['survived']\n",
    "\n",
    "# Split data into training and validation sets\n",
    "X_train, X_val, y_train, y_val = train_test_split(X, y, test_size=0.2, random_state=42)\n",
    "\n",
    "# Define hyperparameter grid\n",
    "param_grid = {\n",
    "    'n_estimators': [100, 200, 300],\n",
    "    'max_depth': [None, 5, 10],\n",
    "    'min_samples_split': [2, 5, 10],\n",
    "    'min_samples_leaf': [1, 5, 10]\n",
    "}\n",
    "\n",
    "# Perform grid search\n",
    "grid_search = GridSearchCV(RandomForestClassifier(random_state=42), param_grid, cv=5)\n",
    "grid_search.fit(X_train, y_train)\n",
    "\n",
    "# Print best score and parameters\n",
    "print(f\"Best score: {grid_search.best_score_:.3f}\")\n",
    "print(f\"Best parameters: {grid_search.best_params_}\")\n",
    "\n",
    "# Evaluate the model\n",
    "best_model = grid_search.best_estimator_\n",
    "best_model.fit(X_train, y_train)\n",
    "y_pred = best_model.predict(X_val)\n",
    "print(f\"Validation accuracy: {accuracy_score(y_val, y_pred):.3f}\")\n"
   ]
  }
 ],
 "metadata": {
  "kernelspec": {
   "display_name": "Python 3",
   "language": "python",
   "name": "python3"
  },
  "language_info": {
   "codemirror_mode": {
    "name": "ipython",
    "version": 3
   },
   "file_extension": ".py",
   "mimetype": "text/x-python",
   "name": "python",
   "nbconvert_exporter": "python",
   "pygments_lexer": "ipython3",
   "version": "3.10.12"
  }
 },
 "nbformat": 4,
 "nbformat_minor": 2
}
