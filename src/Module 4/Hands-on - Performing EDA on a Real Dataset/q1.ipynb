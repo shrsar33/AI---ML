{
 "cells": [
  {
   "cell_type": "markdown",
   "metadata": {},
   "source": [
    "Question 1: Load a CSV file containing a dataset into a Pandas DataFrame. Display the first few rows to understand its basic structure."
   ]
  },
  {
   "cell_type": "code",
   "execution_count": 111,
   "metadata": {},
   "outputs": [
    {
     "name": "stdout",
     "output_type": "stream",
     "text": [
      "    Name  Age    Country\n",
      "0   John   28        USA\n",
      "1   Anna   24         UK\n",
      "2  Peter   35  Australia\n",
      "3  Linda   32    Germany\n"
     ]
    }
   ],
   "source": [
    "import pandas as pd\n",
    "\n",
    "# Create a sample DataFrame\n",
    "data = {\n",
    "    'Name': ['John', 'Anna', 'Peter', 'Linda'],\n",
    "    'Age': [28, 24, 35, 32],\n",
    "    'Country': ['USA', 'UK', 'Australia', 'Germany']\n",
    "}\n",
    "df = pd.DataFrame(data)\n",
    "\n",
    "# Save the DataFrame to a CSV file\n",
    "df.to_csv('sample_data.csv', index=False)\n",
    "\n",
    "# Load the CSV file into a Pandas DataFrame\n",
    "loaded_df = pd.read_csv('sample_data.csv')\n",
    "\n",
    "# Display the first few rows of the DataFrame\n",
    "print(loaded_df.head())\n"
   ]
  },
  {
   "cell_type": "markdown",
   "metadata": {},
   "source": [
    "Question 2: Determine the number of rows and columns in the dataset."
   ]
  },
  {
   "cell_type": "code",
   "execution_count": 112,
   "metadata": {},
   "outputs": [
    {
     "name": "stdout",
     "output_type": "stream",
     "text": [
      "Number of Rows: 4\n",
      "Number of Columns: 3\n",
      "Shape of the DataFrame: (4, 3)\n",
      "    Name  Age    Country\n",
      "0   John   28        USA\n",
      "1   Anna   24         UK\n",
      "2  Peter   35  Australia\n",
      "3  Linda   32    Germany\n"
     ]
    }
   ],
   "source": [
    "\n",
    "import pandas as pd\n",
    "\n",
    "# Create a sample DataFrame\n",
    "data = {\n",
    "    'Name': ['John', 'Anna', 'Peter', 'Linda'],\n",
    "    'Age': [28, 24, 35, 32],\n",
    "    'Country': ['USA', 'UK', 'Australia', 'Germany']\n",
    "}\n",
    "df = pd.DataFrame(data)\n",
    "\n",
    "# Save the DataFrame to a CSV file\n",
    "df.to_csv('sample_data.csv', index=False)\n",
    "\n",
    "# Load the CSV file into a new DataFrame\n",
    "loaded_df = pd.read_csv('sample_data.csv')\n",
    "\n",
    "# Get the number of rows and columns\n",
    "num_rows = loaded_df.shape[0]\n",
    "num_cols = loaded_df.shape[1]\n",
    "\n",
    "print(f\"Number of Rows: {num_rows}\")\n",
    "print(f\"Number of Columns: {num_cols}\")\n",
    "print(\"Shape of the DataFrame:\", loaded_df.shape)\n",
    "print(loaded_df)\n",
    "\n"
   ]
  },
  {
   "cell_type": "markdown",
   "metadata": {},
   "source": [
    "Question 3: Identify the data type of each column in the dataset."
   ]
  },
  {
   "cell_type": "code",
   "execution_count": 113,
   "metadata": {},
   "outputs": [
    {
     "name": "stdout",
     "output_type": "stream",
     "text": [
      "Name       object\n",
      "Age         int64\n",
      "Country    object\n",
      "dtype: object\n"
     ]
    }
   ],
   "source": [
    "import pandas as pd\n",
    "\n",
    "# Create a sample DataFrame\n",
    "data = {\n",
    "    'Name': ['John', 'Anna', 'Peter', 'Linda'],\n",
    "    'Age': [28, 24, 35, 32],\n",
    "    'Country': ['USA', 'UK', 'Australia', 'Germany']\n",
    "}\n",
    "df = pd.DataFrame(data)\n",
    "\n",
    "# Save the DataFrame to a CSV file\n",
    "df.to_csv('sample_data.csv', index=False)\n",
    "\n",
    "# Load the CSV file into a Pandas DataFrame\n",
    "loaded_df = pd.read_csv('sample_data.csv')\n",
    "\n",
    "# Identify the data type of each column\n",
    "print(loaded_df.dtypes)\n",
    "\n"
   ]
  },
  {
   "cell_type": "markdown",
   "metadata": {},
   "source": [
    "Question 4: Generate summary statistics for the numerical columns in the dataset."
   ]
  },
  {
   "cell_type": "code",
   "execution_count": 114,
   "metadata": {},
   "outputs": [
    {
     "name": "stdout",
     "output_type": "stream",
     "text": [
      "             Age\n",
      "count   4.000000\n",
      "mean   29.750000\n",
      "std     4.787136\n",
      "min    24.000000\n",
      "25%    27.000000\n",
      "50%    30.000000\n",
      "75%    32.750000\n",
      "max    35.000000\n"
     ]
    }
   ],
   "source": [
    "import pandas as pd\n",
    "\n",
    "# Create a sample DataFrame\n",
    "data = {\n",
    "    'Name': ['John', 'Anna', 'Peter', 'Linda'],\n",
    "    'Age': [28, 24, 35, 32],\n",
    "    'Country': ['USA', 'UK', 'Australia', 'Germany']\n",
    "}\n",
    "df = pd.DataFrame(data)\n",
    "\n",
    "# Save the DataFrame to a CSV file\n",
    "df.to_csv('sample_data.csv', index=False)\n",
    "\n",
    "# Load the CSV file into a Pandas DataFrame\n",
    "loaded_df = pd.read_csv('sample_data.csv')\n",
    "\n",
    "# Generate summary statistics for numerical columns\n",
    "print(loaded_df.describe(include=['int64']))\n",
    "\n"
   ]
  },
  {
   "cell_type": "markdown",
   "metadata": {},
   "source": [
    "Question 5: Identify columns with missing values and count the number of missing values in each."
   ]
  },
  {
   "cell_type": "code",
   "execution_count": 115,
   "metadata": {},
   "outputs": [
    {
     "name": "stdout",
     "output_type": "stream",
     "text": [
      "Name    1\n",
      "Age     1\n",
      "dtype: int64\n"
     ]
    }
   ],
   "source": [
    "import pandas as pd\n",
    "\n",
    "# Create a sample DataFrame\n",
    "data = {\n",
    "    'Name': ['John', 'Anna', None, 'Linda'],\n",
    "    'Age': [28, 24, 35, None],\n",
    "    'Country': ['USA', 'UK', 'Australia', 'Germany']\n",
    "}\n",
    "df = pd.DataFrame(data)\n",
    "\n",
    "# Save the DataFrame to a CSV file\n",
    "df.to_csv('sample_data.csv', index=False)\n",
    "\n",
    "# Load the CSV file into a Pandas DataFrame\n",
    "loaded_df = pd.read_csv('sample_data.csv')\n",
    "\n",
    "# Identify columns with missing values and count the number of missing values\n",
    "missing_values = loaded_df.isnull().sum()\n",
    "print(missing_values[missing_values > 0])\n"
   ]
  },
  {
   "cell_type": "markdown",
   "metadata": {},
   "source": [
    "Question 6: Replace missing values in a column with the median value of that column."
   ]
  },
  {
   "cell_type": "code",
   "execution_count": 116,
   "metadata": {},
   "outputs": [
    {
     "name": "stdout",
     "output_type": "stream",
     "text": [
      "    Name   Age    Country\n",
      "0   John  28.0        USA\n",
      "1   Anna  24.0         UK\n",
      "2  Peter  35.0  Australia\n",
      "3  Linda  28.0    Germany\n"
     ]
    }
   ],
   "source": [
    "import pandas as pd\n",
    "\n",
    "# Create a sample DataFrame\n",
    "data = {\n",
    "    'Name': ['John', 'Anna', 'Peter', 'Linda'],\n",
    "    'Age': [28, 24, 35, None],\n",
    "    'Country': ['USA', 'UK', 'Australia', 'Germany']\n",
    "}\n",
    "df = pd.DataFrame(data)\n",
    "\n",
    "# Save the DataFrame to a CSV file\n",
    "df.to_csv('sample_data.csv', index=False)\n",
    "\n",
    "# Load the CSV file into a Pandas DataFrame\n",
    "loaded_df = pd.read_csv('sample_data.csv')\n",
    "\n",
    "# Replace missing values in the 'Age' column with the median value\n",
    "median_age = loaded_df['Age'].median()\n",
    "loaded_df['Age'] = loaded_df['Age'].fillna(median_age)\n",
    "\n",
    "print(loaded_df)\n"
   ]
  },
  {
   "cell_type": "markdown",
   "metadata": {},
   "source": [
    "Question 7: Remove duplicate rows from the dataset."
   ]
  },
  {
   "cell_type": "code",
   "execution_count": 117,
   "metadata": {},
   "outputs": [
    {
     "name": "stdout",
     "output_type": "stream",
     "text": [
      "    Name  Age  Country\n",
      "0   John   28      USA\n",
      "1   Anna   24       UK\n",
      "3  Linda   32  Germany\n"
     ]
    }
   ],
   "source": [
    "import pandas as pd\n",
    "\n",
    "# Create a sample DataFrame\n",
    "data = {\n",
    "    'Name': ['John', 'Anna', 'John', 'Linda'],\n",
    "    'Age': [28, 24, 28, 32],\n",
    "    'Country': ['USA', 'UK', 'USA', 'Germany']\n",
    "}\n",
    "df = pd.DataFrame(data)\n",
    "\n",
    "# Save the DataFrame to a CSV file\n",
    "df.to_csv('sample_data.csv', index=False)\n",
    "\n",
    "# Load the CSV file into a Pandas DataFrame\n",
    "loaded_df = pd.read_csv('sample_data.csv')\n",
    "\n",
    "# Remove duplicate rows\n",
    "loaded_df = loaded_df.drop_duplicates()\n",
    "\n",
    "print(loaded_df)\n",
    "\n"
   ]
  },
  {
   "cell_type": "markdown",
   "metadata": {},
   "source": [
    "Question 8: Create a histogram to visualize the distribution of a numerical column (e.g., 'price')."
   ]
  },
  {
   "cell_type": "code",
   "execution_count": 118,
   "metadata": {},
   "outputs": [
    {
     "data": {
      "image/png": "[encoded data removed]",
      "text/plain": [
       "<Figure size 640x480 with 1 Axes>"
      ]
     },
     "metadata": {},
     "output_type": "display_data"
    }
   ],
   "source": [
    "import pandas as pd\n",
    "import matplotlib.pyplot as plt\n",
    "\n",
    "# Create a sample DataFrame\n",
    "data = {\n",
    "    'Name': ['Product A', 'Product B', 'Product C', 'Product D', 'Product E'],\n",
    "    'Price': [10.99, 9.99, 12.99, 8.99, 11.99]\n",
    "}\n",
    "df = pd.DataFrame(data)\n",
    "\n",
    "# Save the DataFrame to a CSV file\n",
    "df.to_csv('sample_data.csv', index=False)\n",
    "\n",
    "# Load the CSV file into a Pandas DataFrame\n",
    "loaded_df = pd.read_csv('sample_data.csv')\n",
    "\n",
    "# Create a histogram to visualize the distribution of the 'Price' column\n",
    "plt.hist(loaded_df['Price'], bins=5, edgecolor='black')\n",
    "plt.xlabel('Price')\n",
    "plt.ylabel('Frequency')\n",
    "plt.title('Distribution of Price')\n",
    "plt.show()\n"
   ]
  },
  {
   "cell_type": "markdown",
   "metadata": {},
   "source": [
    "Question 9: Create a scatter plot to visualize the relationship between two numerical variables"
   ]
  },
  {
   "cell_type": "code",
   "execution_count": 119,
   "metadata": {},
   "outputs": [
    {
     "data": {
      "image/png": "[encoded data removed]",
      "text/plain": [
       "<Figure size 640x480 with 1 Axes>"
      ]
     },
     "metadata": {},
     "output_type": "display_data"
    }
   ],
   "source": [
    "import pandas as pd\n",
    "import matplotlib.pyplot as plt\n",
    "\n",
    "# Create a sample DataFrame\n",
    "data = {\n",
    "    'Age': [20, 25, 30, 35, 40],\n",
    "    'Salary': [50000, 60000, 70000, 80000, 90000]\n",
    "}\n",
    "df = pd.DataFrame(data)\n",
    "\n",
    "# Save the DataFrame to a CSV file\n",
    "df.to_csv('sample_data.csv', index=False)\n",
    "\n",
    "# Load the CSV file into a Pandas DataFrame\n",
    "loaded_df = pd.read_csv('sample_data.csv')\n",
    "\n",
    "# Create a scatter plot to visualize the relationship between 'Age' and 'Salary'\n",
    "plt.scatter(loaded_df['Age'], loaded_df['Salary'])\n",
    "plt.xlabel('Age')\n",
    "plt.ylabel('Salary')\n",
    "plt.title('Relationship between Age and Salary')\n",
    "plt.show()\n",
    "\n"
   ]
  },
  {
   "cell_type": "markdown",
   "metadata": {},
   "source": [
    "Question 10: Visualize the correlation matrix of the dataset using a heatmap."
   ]
  },
  {
   "cell_type": "code",
   "execution_count": 120,
   "metadata": {},
   "outputs": [
    {
     "data": {
      "image/png": "[encoded data removed]",
      "text/plain": [
       "<Figure size 800x600 with 2 Axes>"
      ]
     },
     "metadata": {},
     "output_type": "display_data"
    }
   ],
   "source": [
    "import pandas as pd\n",
    "import seaborn as sns\n",
    "import matplotlib.pyplot as plt\n",
    "\n",
    "# Create a sample DataFrame\n",
    "data = {\n",
    "    'Age': [20, 25, 30, 35, 40],\n",
    "    'Salary': [50000, 60000, 70000, 80000, 90000],\n",
    "    'Experience': [2, 5, 8, 11, 14]\n",
    "}\n",
    "df = pd.DataFrame(data)\n",
    "\n",
    "# Save the DataFrame to a CSV file\n",
    "df.to_csv('sample_data.csv', index=False)\n",
    "\n",
    "# Load the CSV file into a Pandas DataFrame\n",
    "loaded_df = pd.read_csv('sample_data.csv')\n",
    "\n",
    "# Calculate the correlation matrix\n",
    "corr_matrix = loaded_df.corr()\n",
    "\n",
    "# Create a heatmap to visualize the correlation matrix\n",
    "plt.figure(figsize=(8, 6))\n",
    "sns.heatmap(corr_matrix, annot=True, cmap='coolwarm', square=True)\n",
    "plt.title('Correlation Matrix')\n",
    "plt.show()\n",
    "\n"
   ]
  }
 ],
 "metadata": {
  "kernelspec": {
   "display_name": "Python 3",
   "language": "python",
   "name": "python3"
  },
  "language_info": {
   "codemirror_mode": {
    "name": "ipython",
    "version": 3
   },
   "file_extension": ".py",
   "mimetype": "text/x-python",
   "name": "python",
   "nbconvert_exporter": "python",
   "pygments_lexer": "ipython3",
   "version": "3.10.12"
  }
 },
 "nbformat": 4,
 "nbformat_minor": 2
}
