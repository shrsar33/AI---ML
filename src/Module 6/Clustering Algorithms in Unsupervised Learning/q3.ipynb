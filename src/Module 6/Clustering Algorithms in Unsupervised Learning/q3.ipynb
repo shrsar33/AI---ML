{
 "cells": [
  {
   "cell_type": "code",
   "execution_count": null,
   "metadata": {},
   "outputs": [],
   "source": [
    "\n",
    "# Import necessary libraries\n",
    "import pandas as pd\n",
    "import numpy as np\n",
    "from sklearn.cluster import AgglomerativeClustering\n",
    "from sklearn.preprocessing import StandardScaler\n",
    "import matplotlib.pyplot as plt\n",
    "from scipy.cluster.hierarchy import dendrogram, linkage\n",
    "\n",
    "# Generate sample data\n",
    "np.random.seed(0)\n",
    "mean1 = [0, 0]\n",
    "cov1 = [[0.5, 0.1], [0.1, 0.5]]\n",
    "data1 = np.random.multivariate_normal(mean1, cov1, 100)\n",
    "\n",
    "mean2 = [5, 5]\n",
    "cov2 = [[1, 0.5], [0.5, 1]]\n",
    "data2 = np.random.multivariate_normal(mean2, cov2, 100)\n",
    "\n",
    "data = np.vstack((data1, data2))\n",
    "\n",
    "# Standardize features by removing the mean and scaling to unit variance\n",
    "scaler = StandardScaler()\n",
    "data = scaler.fit_transform(data)\n",
    "\n",
    "# Create a linkage matrix\n",
    "Z = linkage(data, method='ward')\n",
    "\n",
    "# Create a dendrogram\n",
    "plt.figure(figsize=(10, 7))\n",
    "dendrogram(Z)\n",
    "plt.title(\"Hierarchical Clustering Dendrogram\")\n",
    "plt.show()\n",
    "\n",
    "# Perform hierarchical clustering\n",
    "cluster = AgglomerativeClustering(n_clusters=2, linkage='ward')\n",
    "cluster.fit(data)\n",
    "labels = cluster.labels_\n",
    "\n",
    "# Visualize the clusters\n",
    "plt.figure(figsize=(10, 7))\n",
    "plt.scatter(data[:, 0], data[:, 1], c=labels, cmap='viridis')\n",
    "plt.title(\"Hierarchical Clustering\")\n",
    "plt.show()\n"
   ]
  }
 ],
 "metadata": {
  "kernelspec": {
   "display_name": "Python 3",
   "language": "python",
   "name": "python3"
  },
  "language_info": {
   "codemirror_mode": {
    "name": "ipython",
    "version": 3
   },
   "file_extension": ".py",
   "mimetype": "text/x-python",
   "name": "python",
   "nbconvert_exporter": "python",
   "pygments_lexer": "ipython3",
   "version": "3.10.12"
  }
 },
 "nbformat": 4,
 "nbformat_minor": 2
}
