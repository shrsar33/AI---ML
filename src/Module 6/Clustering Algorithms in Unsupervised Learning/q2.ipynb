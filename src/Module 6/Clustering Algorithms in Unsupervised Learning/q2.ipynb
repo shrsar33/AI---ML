{
 "cells": [
  {
   "cell_type": "code",
   "execution_count": null,
   "metadata": {},
   "outputs": [],
   "source": [
    "# Import necessary libraries\n",
    "import numpy as np\n",
    "import matplotlib.pyplot as plt\n",
    "from sklearn.cluster import KMeans\n",
    "\n",
    "# Generate synthetic data\n",
    "np.random.seed(0)\n",
    "mean1 = [0, 0]\n",
    "cov1 = [[0.5, 0.1], [0.1, 0.5]]\n",
    "data1 = np.random.multivariate_normal(mean1, cov1, 100)\n",
    "\n",
    "mean2 = [5, 5]\n",
    "cov2 = [[1, 0.5], [0.5, 1]]\n",
    "data2 = np.random.multivariate_normal(mean2, cov2, 100)\n",
    "\n",
    "mean3 = [10, 0]\n",
    "cov3 = [[1.5, 0.2], [0.2, 1.5]]\n",
    "data3 = np.random.multivariate_normal(mean3, cov3, 100)\n",
    "\n",
    "data = np.vstack((data1, data2, data3))\n",
    "\n",
    "# Perform K-Means clustering\n",
    "kmeans = KMeans(n_clusters=3)\n",
    "kmeans.fit(data)\n",
    "\n",
    "# Predict cluster labels\n",
    "labels = kmeans.labels_\n",
    "\n",
    "# Visualize the clusters\n",
    "plt.scatter(data[:, 0], data[:, 1], c=labels)\n",
    "plt.scatter(kmeans.cluster_centers_[:, 0], kmeans.cluster_centers_[:, 1], marker=\"*\", s=200, c=\"red\")\n",
    "plt.title('K-Means Clustering')\n",
    "plt.show()\n",
    "\n"
   ]
  },
  {
   "cell_type": "code",
   "execution_count": null,
   "metadata": {},
   "outputs": [],
   "source": []
  }
 ],
 "metadata": {
  "kernelspec": {
   "display_name": "Python 3",
   "language": "python",
   "name": "python3"
  },
  "language_info": {
   "codemirror_mode": {
    "name": "ipython",
    "version": 3
   },
   "file_extension": ".py",
   "mimetype": "text/x-python",
   "name": "python",
   "nbconvert_exporter": "python",
   "pygments_lexer": "ipython3",
   "version": "3.10.12"
  }
 },
 "nbformat": 4,
 "nbformat_minor": 2
}
