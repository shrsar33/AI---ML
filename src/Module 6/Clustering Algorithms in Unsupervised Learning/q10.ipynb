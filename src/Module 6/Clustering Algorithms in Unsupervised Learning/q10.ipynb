{
 "cells": [
  {
   "cell_type": "code",
   "execution_count": null,
   "metadata": {},
   "outputs": [],
   "source": [
    "import numpy as np\n",
    "import matplotlib.pyplot as plt\n",
    "\n",
    "class CustomClustering:\n",
    "    def __init__(self, k, max_iters=100):\n",
    "        self.k = k\n",
    "        self.max_iters = max_iters\n",
    "\n",
    "    def initialize_centroids(self, X):\n",
    "        np.random.seed(0)\n",
    "        indices = np.random.choice(X.shape[0], self.k, replace=False)\n",
    "        return X[indices]\n",
    "\n",
    "    def assign_clusters(self, X, centroids):\n",
    "        distances = np.sqrt(((X - centroids[:, np.newaxis]) ** 2).sum(axis=2))\n",
    "        return np.argmin(distances, axis=0)\n",
    "\n",
    "    def update_centroids(self, X, labels):\n",
    "        return np.array([X[labels == i].mean(axis=0) for i in range(self.k)])\n",
    "\n",
    "    def fit(self, X):\n",
    "        centroids = self.initialize_centroids(X)\n",
    "        for _ in range(self.max_iters):\n",
    "            labels = self.assign_clusters(X, centroids)\n",
    "            new_centroids = self.update_centroids(X, labels)\n",
    "            if np.all(centroids == new_centroids):\n",
    "                break\n",
    "            centroids = new_centroids\n",
    "        return labels, centroids\n",
    "\n",
    "# Generate sample data\n",
    "np.random.seed(0)\n",
    "mean1 = [0, 0]\n",
    "cov1 = [[0.5, 0.1], [0.1, 0.5]]\n",
    "data1 = np.random.multivariate_normal(mean1, cov1, 100)\n",
    "\n",
    "mean2 = [5, 5]\n",
    "cov2 = [[1, 0.5], [0.5, 1]]\n",
    "data2 = np.random.multivariate_normal(mean2, cov2, 100)\n",
    "\n",
    "X = np.vstack((data1, data2))\n",
    "\n",
    "# Perform custom clustering\n",
    "custom_clustering = CustomClustering(k=2)\n",
    "labels, centroids = custom_clustering.fit(X)\n",
    "\n",
    "# Visualize the clusters\n",
    "plt.scatter(X[:, 0], X[:, 1], c=labels, cmap='viridis')\n",
    "plt.scatter(centroids[:, 0], centroids[:, 1], c='red', s=200, alpha=0.5)\n",
    "plt.title(\"Custom Clustering\")\n",
    "plt.show()\n"
   ]
  }
 ],
 "metadata": {
  "kernelspec": {
   "display_name": "Python 3",
   "language": "python",
   "name": "python3"
  },
  "language_info": {
   "codemirror_mode": {
    "name": "ipython",
    "version": 3
   },
   "file_extension": ".py",
   "mimetype": "text/x-python",
   "name": "python",
   "nbconvert_exporter": "python",
   "pygments_lexer": "ipython3",
   "version": "3.10.12"
  }
 },
 "nbformat": 4,
 "nbformat_minor": 2
}
