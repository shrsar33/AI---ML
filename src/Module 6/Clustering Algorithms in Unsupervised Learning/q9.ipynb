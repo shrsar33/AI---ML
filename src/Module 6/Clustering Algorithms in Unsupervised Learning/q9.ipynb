{
 "cells": [
  {
   "cell_type": "code",
   "execution_count": 1,
   "metadata": {},
   "outputs": [
    {
     "name": "stdout",
     "output_type": "stream",
     "text": [
      "Silhouette Score: 0.06454946670253961\n",
      "Document 1 is in cluster 3\n",
      "Document 2 is in cluster 1\n",
      "Document 3 is in cluster 2\n",
      "Document 4 is in cluster 1\n",
      "Document 5 is in cluster 1\n",
      "Document 6 is in cluster 1\n",
      "Document 7 is in cluster 3\n",
      "Document 8 is in cluster 2\n",
      "Document 9 is in cluster 1\n",
      "Document 10 is in cluster 1\n"
     ]
    }
   ],
   "source": [
    "\n",
    "# Import necessary libraries\n",
    "from sklearn.feature_extraction.text import TfidfVectorizer\n",
    "from sklearn.cluster import KMeans\n",
    "from sklearn.metrics import silhouette_score\n",
    "import numpy as np\n",
    "\n",
    "# Sample text data (e.g., news articles)\n",
    "text_data = [\n",
    "    \"The economy is growing rapidly, with new jobs being created every day.\",\n",
    "    \"The stock market is experiencing a downturn due to economic uncertainty.\",\n",
    "    \"A new study has found that climate change is having a significant impact on global weather patterns.\",\n",
    "    \"The government has announced plans to invest in renewable energy sources.\",\n",
    "    \"The latest smartphone release has been getting a lot of attention from tech enthusiasts.\",\n",
    "    \"A new video game has been released, featuring advanced graphics and gameplay.\",\n",
    "    \"The economy is expected to continue growing, with low unemployment rates.\",\n",
    "    \"The impact of climate change on global food production is a major concern.\",\n",
    "    \"The latest advancements in artificial intelligence are transforming industries.\",\n",
    "    \"A new breakthrough in medical research has led to promising new treatments.\"\n",
    "]\n",
    "\n",
    "# Create a TF-IDF vectorizer\n",
    "vectorizer = TfidfVectorizer(stop_words='english')\n",
    "\n",
    "# Fit the vectorizer to the text data and transform it into a matrix\n",
    "tfidf_matrix = vectorizer.fit_transform(text_data)\n",
    "\n",
    "# Perform K-Means clustering\n",
    "kmeans = KMeans(n_clusters=3, init='k-means++', random_state=0)\n",
    "kmeans_labels = kmeans.fit_predict(tfidf_matrix)\n",
    "\n",
    "# Evaluate the clustering quality using Silhouette Score\n",
    "silhouette_avg = silhouette_score(tfidf_matrix, kmeans_labels)\n",
    "print(f\"Silhouette Score: {silhouette_avg}\")\n",
    "\n",
    "# Print the cluster labels\n",
    "for i, label in enumerate(kmeans_labels):\n",
    "    print(f\"Document {i+1} is in cluster {label+1}\")\n",
    "\n"
   ]
  }
 ],
 "metadata": {
  "kernelspec": {
   "display_name": "Python 3",
   "language": "python",
   "name": "python3"
  },
  "language_info": {
   "codemirror_mode": {
    "name": "ipython",
    "version": 3
   },
   "file_extension": ".py",
   "mimetype": "text/x-python",
   "name": "python",
   "nbconvert_exporter": "python",
   "pygments_lexer": "ipython3",
   "version": "3.10.12"
  }
 },
 "nbformat": 4,
 "nbformat_minor": 2
}
