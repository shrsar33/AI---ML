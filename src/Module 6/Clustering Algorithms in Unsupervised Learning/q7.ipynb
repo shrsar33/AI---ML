{
 "cells": [
  {
   "cell_type": "code",
   "execution_count": null,
   "metadata": {},
   "outputs": [],
   "source": [
    "# Import necessary libraries\n",
    "import numpy as np\n",
    "import matplotlib.pyplot as plt\n",
    "from sklearn.cluster import KMeans, AgglomerativeClustering\n",
    "from sklearn.datasets import make_blobs\n",
    "from sklearn.preprocessing import StandardScaler\n",
    "\n",
    "# Generate a sample dataset\n",
    "X, _ = make_blobs(n_samples=200, centers=4, cluster_std=0.60, random_state=0)\n",
    "\n",
    "# Standardize features\n",
    "scaler = StandardScaler()\n",
    "X = scaler.fit_transform(X)\n",
    "\n",
    "# Perform K-Means clustering\n",
    "kmeans = KMeans(n_clusters=4, init='k-means++', random_state=0)\n",
    "kmeans_labels = kmeans.fit_predict(X)\n",
    "\n",
    "# Perform Hierarchical Clustering\n",
    "hclust = AgglomerativeClustering(n_clusters=4)\n",
    "hclust_labels = hclust.fit_predict(X)\n",
    "\n",
    "# Visualize K-Means clusters\n",
    "plt.figure(figsize=(10, 7))\n",
    "plt.subplot(1, 2, 1)\n",
    "plt.scatter(X[:, 0], X[:, 1], c=kmeans_labels, cmap='viridis')\n",
    "plt.title(\"K-Means Clustering\")\n",
    "\n",
    "# Visualize Hierarchical clusters\n",
    "plt.subplot(1, 2, 2)\n",
    "plt.scatter(X[:, 0], X[:, 1], c=hclust_labels, cmap='viridis')\n",
    "plt.title(\"Hierarchical Clustering\")\n",
    "plt.show()\n"
   ]
  }
 ],
 "metadata": {
  "kernelspec": {
   "display_name": "Python 3",
   "language": "python",
   "name": "python3"
  },
  "language_info": {
   "codemirror_mode": {
    "name": "ipython",
    "version": 3
   },
   "file_extension": ".py",
   "mimetype": "text/x-python",
   "name": "python",
   "nbconvert_exporter": "python",
   "pygments_lexer": "ipython3",
   "version": "3.10.12"
  }
 },
 "nbformat": 4,
 "nbformat_minor": 2
}
