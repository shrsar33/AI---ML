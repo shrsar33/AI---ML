{
 "cells": [
  {
   "cell_type": "code",
   "execution_count": null,
   "metadata": {},
   "outputs": [],
   "source": [
    "# Import necessary libraries\n",
    "import numpy as np\n",
    "import matplotlib.pyplot as plt\n",
    "from sklearn.cluster import KMeans\n",
    "from sklearn.datasets import make_blobs\n",
    "from sklearn.metrics import silhouette_score\n",
    "\n",
    "# Generate a sample dataset\n",
    "X, _ = make_blobs(n_samples=200, centers=4, cluster_std=0.60, random_state=0)\n",
    "\n",
    "# Evaluate clustering quality using Silhouette Score\n",
    "silhouette_scores = []\n",
    "for n_clusters in range(2, 11):\n",
    "    kmeans = KMeans(n_clusters=n_clusters, init='k-means++', random_state=0)\n",
    "    labels = kmeans.fit_predict(X)\n",
    "    silhouette_avg = silhouette_score(X, labels)\n",
    "    silhouette_scores.append(silhouette_avg)\n",
    "    print(f\"For n_clusters = {n_clusters}, Silhouette Score: {silhouette_avg}\")\n",
    "\n",
    "# Plot Silhouette Scores\n",
    "plt.figure(figsize=(10, 7))\n",
    "plt.plot(range(2, 11), silhouette_scores, marker='o')\n",
    "plt.title(\"Silhouette Score for Different Numbers of Clusters\")\n",
    "plt.xlabel(\"Number of Clusters\")\n",
    "plt.ylabel(\"Silhouette Score\")\n",
    "plt.show()\n",
    "\n",
    "# Determine the optimal number of clusters based on Silhouette Score\n",
    "optimal_n_clusters = np.argmax(silhouette_scores) + 2\n",
    "print(f\"Optimal number of clusters: {optimal_n_clusters}\")\n",
    "\n",
    "# Perform K-Means clustering with the optimal number of clusters\n",
    "kmeans = KMeans(n_clusters=optimal_n_clusters, init='k-means++', random_state=0)\n",
    "labels = kmeans.fit_predict(X)\n",
    "\n",
    "# Visualize the clusters\n",
    "plt.figure(figsize=(10, 7))\n",
    "plt.scatter(X[:, 0], X[:, 1], c=labels, cmap='viridis')\n",
    "plt.title(\"K-Means Clustering with Optimal Number of Clusters\")\n",
    "plt.show()\n",
    "\n"
   ]
  }
 ],
 "metadata": {
  "kernelspec": {
   "display_name": "Python 3",
   "language": "python",
   "name": "python3"
  },
  "language_info": {
   "codemirror_mode": {
    "name": "ipython",
    "version": 3
   },
   "file_extension": ".py",
   "mimetype": "text/x-python",
   "name": "python",
   "nbconvert_exporter": "python",
   "pygments_lexer": "ipython3",
   "version": "3.10.12"
  }
 },
 "nbformat": 4,
 "nbformat_minor": 2
}
