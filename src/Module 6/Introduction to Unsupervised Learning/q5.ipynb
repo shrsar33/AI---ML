{
 "cells": [
  {
   "cell_type": "code",
   "execution_count": null,
   "metadata": {},
   "outputs": [],
   "source": [
    "\n",
    "# Import necessary libraries\n",
    "import pandas as pd\n",
    "from sklearn.cluster import KMeans\n",
    "from sklearn.preprocessing import StandardScaler\n",
    "import matplotlib.pyplot as plt\n",
    "\n",
    "# Generate sample customer data\n",
    "data = {\n",
    "    'CustomerID': [1, 2, 3, 4, 5, 6, 7, 8, 9, 10],\n",
    "    'PurchaseFrequency': [5, 3, 8, 2, 6, 4, 7, 1, 9, 6],\n",
    "    'AverageOrderValue': [100, 50, 200, 30, 150, 80, 120, 20, 250, 180]\n",
    "}\n",
    "\n",
    "df = pd.DataFrame(data)\n",
    "\n",
    "# Select relevant features for clustering, such as purchase frequency and average order value\n",
    "features = df[['PurchaseFrequency', 'AverageOrderValue']]\n",
    "\n",
    "# Scale the data using StandardScaler\n",
    "scaler = StandardScaler()\n",
    "scaled_features = scaler.fit_transform(features)\n",
    "\n",
    "# Perform K-Means clustering\n",
    "kmeans = KMeans(n_clusters=3)\n",
    "kmeans.fit(scaled_features)\n",
    "\n",
    "# Predict cluster labels\n",
    "labels = kmeans.labels_\n",
    "\n",
    "# Add cluster labels to the original dataframe\n",
    "df['Cluster'] = labels\n",
    "\n",
    "# Visualize the clusters\n",
    "plt.scatter(scaled_features[:, 0], scaled_features[:, 1], c=labels)\n",
    "plt.xlabel('Purchase Frequency')\n",
    "plt.ylabel('Average Order Value')\n",
    "plt.title('Customer Segmentation using K-Means Clustering')\n",
    "plt.show()\n",
    "\n",
    "# Print the cluster assignments\n",
    "print(df)\n"
   ]
  }
 ],
 "metadata": {
  "kernelspec": {
   "display_name": "Python 3",
   "language": "python",
   "name": "python3"
  },
  "language_info": {
   "codemirror_mode": {
    "name": "ipython",
    "version": 3
   },
   "file_extension": ".py",
   "mimetype": "text/x-python",
   "name": "python",
   "nbconvert_exporter": "python",
   "pygments_lexer": "ipython3",
   "version": "3.10.12"
  }
 },
 "nbformat": 4,
 "nbformat_minor": 2
}
