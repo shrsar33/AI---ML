{
 "cells": [
  {
   "cell_type": "code",
   "execution_count": null,
   "metadata": {},
   "outputs": [],
   "source": [
    "# Question 5: Anomaly Detection with Isolation Forest\n",
    "# Description: Detect anomalies in a dataset using the Isolation Forest algorithm."
   ]
  },
  {
   "cell_type": "code",
   "execution_count": null,
   "metadata": {},
   "outputs": [],
   "source": [
    "# Import necessary libraries\n",
    "import numpy as np\n",
    "import pandas as pd\n",
    "from sklearn.ensemble import IsolationForest\n",
    "import matplotlib.pyplot as plt\n",
    "\n",
    "# Generate sample data\n",
    "np.random.seed(0)\n",
    "data = np.random.randn(100, 2)\n",
    "\n",
    "# Add some anomalies to the data\n",
    "data = np.vstack((data, [[5, 5], [6, 6], [7, 7]]))\n",
    "\n",
    "# Create a DataFrame\n",
    "df = pd.DataFrame(data, columns=['Feature1', 'Feature2'])\n",
    "\n",
    "# Apply Isolation Forest algorithm\n",
    "iforest = IsolationForest(contamination=0.05)\n",
    "iforest.fit(df)\n",
    "\n",
    "# Predict anomalies\n",
    "predictions = iforest.predict(df)\n",
    "\n",
    "# Identify anomalies\n",
    "anomalies = df[predictions == -1]\n",
    "\n",
    "# Visualize the data and anomalies\n",
    "plt.figure(figsize=(8, 6))\n",
    "plt.scatter(df['Feature1'], df['Feature2'], c=['red' if x == -1 else 'blue' for x in predictions])\n",
    "plt.title('Anomaly Detection using Isolation Forest')\n",
    "plt.show()\n",
    "\n",
    "# Print the anomalies\n",
    "print(anomalies)\n"
   ]
  }
 ],
 "metadata": {
  "kernelspec": {
   "display_name": "Python 3",
   "language": "python",
   "name": "python3"
  },
  "language_info": {
   "codemirror_mode": {
    "name": "ipython",
    "version": 3
   },
   "file_extension": ".py",
   "mimetype": "text/x-python",
   "name": "python",
   "nbconvert_exporter": "python",
   "pygments_lexer": "ipython3",
   "version": "3.10.12"
  }
 },
 "nbformat": 4,
 "nbformat_minor": 2
}
