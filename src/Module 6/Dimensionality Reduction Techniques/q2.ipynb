{
 "cells": [
  {
   "cell_type": "code",
   "execution_count": null,
   "metadata": {},
   "outputs": [],
   "source": [
    "import numpy as np\n",
    "\n",
    "# Define the 2D matrix\n",
    "X = np.array([[2, 3], [4, 5], [6, 7]])\n",
    "\n",
    "# Calculate the mean of each feature\n",
    "mean = np.mean(X, axis=0)\n",
    "\n",
    "# Subtract the mean from each feature\n",
    "X_centered = X - mean\n",
    "\n",
    "# Calculate the covariance matrix\n",
    "cov_matrix = np.cov(X_centered.T)\n",
    "\n",
    "# Calculate the eigenvalues and eigenvectors\n",
    "eigenvalues, eigenvectors = np.linalg.eig(cov_matrix)\n",
    "\n",
    "# Sort the eigenvectors by their corresponding eigenvalues\n",
    "idx = np.argsort(eigenvalues)[::-1]\n",
    "eigenvalues = eigenvalues[idx]\n",
    "eigenvectors = eigenvectors[:, idx]\n",
    "\n",
    "# Print the principal components\n",
    "print(\"Principal Components:\")\n",
    "print(eigenvectors)\n",
    "\n",
    "# Project the data onto the principal components\n",
    "X_pca = np.dot(X_centered, eigenvectors)\n",
    "\n",
    "# Print the projected data\n",
    "print(\"\\nProjected Data:\")\n",
    "print(X_pca)\n",
    "\n"
   ]
  }
 ],
 "metadata": {
  "kernelspec": {
   "display_name": "Python 3",
   "language": "python",
   "name": "python3"
  },
  "language_info": {
   "codemirror_mode": {
    "name": "ipython",
    "version": 3
   },
   "file_extension": ".py",
   "mimetype": "text/x-python",
   "name": "python",
   "nbconvert_exporter": "python",
   "pygments_lexer": "ipython3",
   "version": "3.10.12"
  }
 },
 "nbformat": 4,
 "nbformat_minor": 2
}
