{
 "cells": [
  {
   "cell_type": "code",
   "execution_count": null,
   "metadata": {},
   "outputs": [],
   "source": [
    "import numpy as np\n",
    "import matplotlib.pyplot as plt\n",
    "from keras.datasets import mnist\n",
    "from sklearn.decomposition import PCA\n",
    "from sklearn.manifold import TSNE\n",
    "\n",
    "# Load the MNIST dataset\n",
    "(x_train, y_train), (_, _) = mnist.load_data()\n",
    "\n",
    "# Normalize pixel values\n",
    "x_train = x_train.astype('float32') / 255\n",
    "\n",
    "# Flatten the images\n",
    "x_train = x_train.reshape(-1, 784)\n",
    "\n",
    "# Apply PCA\n",
    "pca = PCA(n_components=2)\n",
    "x_train_pca = pca.fit_transform(x_train)\n",
    "\n",
    "# Apply t-SNE\n",
    "tsne = TSNE(n_components=2, random_state=42)\n",
    "x_train_tsne = tsne.fit_transform(x_train)\n",
    "\n",
    "# Plot the results\n",
    "fig, axes = plt.subplots(1, 2, figsize=(16, 8))\n",
    "\n",
    "axes[0].scatter(x_train_pca[:, 0], x_train_pca[:, 1], c=y_train)\n",
    "axes[0].set_title(\"PCA Visualization\")\n",
    "axes[0].set_xlabel(\"Principal Component 1\")\n",
    "axes[0].set_ylabel(\"Principal Component 2\")\n",
    "\n",
    "axes[1].scatter(x_train_tsne[:, 0], x_train_tsne[:, 1], c=y_train)\n",
    "axes[1].set_title(\"t-SNE Visualization\")\n",
    "axes[1].set_xlabel(\"t-SNE Component 1\")\n",
    "axes[1].set_ylabel(\"t-SNE Component 2\")\n",
    "\n",
    "plt.tight_layout()\n",
    "plt.show()\n",
    "\n"
   ]
  }
 ],
 "metadata": {
  "kernelspec": {
   "display_name": "Python 3",
   "language": "python",
   "name": "python3"
  },
  "language_info": {
   "codemirror_mode": {
    "name": "ipython",
    "version": 3
   },
   "file_extension": ".py",
   "mimetype": "text/x-python",
   "name": "python",
   "nbconvert_exporter": "python",
   "pygments_lexer": "ipython3",
   "version": "3.10.12"
  }
 },
 "nbformat": 4,
 "nbformat_minor": 2
}
