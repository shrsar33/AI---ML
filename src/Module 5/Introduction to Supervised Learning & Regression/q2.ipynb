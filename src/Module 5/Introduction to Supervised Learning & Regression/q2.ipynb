{
 "cells": [
  {
   "cell_type": "markdown",
   "metadata": {},
   "source": [
    "\n",
    "Question 2: Polynomial Regression <br>\n",
    "\n",
    "Description:<br>\n",
    "Perform polynomial regression to fit a non-linear dataset."
   ]
  },
  {
   "cell_type": "code",
   "execution_count": null,
   "metadata": {},
   "outputs": [],
   "source": [
    " \n",
    "import numpy as np\n",
    "from sklearn.preprocessing import PolynomialFeatures\n",
    "from sklearn.linear_model import LinearRegression\n",
    "import matplotlib.pyplot as plt\n",
    "\n",
    "# Generate a non-linear dataset\n",
    "np.random.seed(0)\n",
    "x = np.random.rand(100, 1) * 10\n",
    "y = 3 * x**2 + 2 * x + 1 + np.random.randn(100, 1)\n",
    "\n",
    "# Perform polynomial regression\n",
    "poly_features = PolynomialFeatures(degree=2)\n",
    "x_poly = poly_features.fit_transform(x)\n",
    "\n",
    "poly_model = LinearRegression()\n",
    "poly_model.fit(x_poly, y)\n",
    "\n",
    "# Predict the output\n",
    "x_test = np.linspace(0, 10, 100).reshape(-1, 1)\n",
    "x_test_poly = poly_features.transform(x_test)\n",
    "y_pred = poly_model.predict(x_test_poly)\n",
    "\n",
    "# Visualize the results\n",
    "plt.scatter(x, y, label=\"Data\")\n",
    "plt.plot(x_test, y_pred, color=\"red\", label=\"Polynomial Regression\")\n",
    "plt.legend()\n",
    "plt.show()\n",
    "\n"
   ]
  }
 ],
 "metadata": {
  "kernelspec": {
   "display_name": "Python 3",
   "language": "python",
   "name": "python3"
  },
  "language_info": {
   "codemirror_mode": {
    "name": "ipython",
    "version": 3
   },
   "file_extension": ".py",
   "mimetype": "text/x-python",
   "name": "python",
   "nbconvert_exporter": "python",
   "pygments_lexer": "ipython3",
   "version": "3.10.12"
  }
 },
 "nbformat": 4,
 "nbformat_minor": 2
}
