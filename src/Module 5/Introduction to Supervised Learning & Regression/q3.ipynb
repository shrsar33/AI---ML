{
 "cells": [
  {
   "cell_type": "markdown",
   "metadata": {},
   "source": [
    "\n",
    "import numpy as np\n",
    "from sklearn.metrics import r2_score\n",
    "\n",
    "# Actual values\n",
    "y_actual = np.array([1, 2, 3, 4, 5])\n",
    "\n",
    "# Predicted values\n",
    "y_pred = np.array([1.1, 1.9, 3.2, 4.1, 5.0])\n",
    "\n",
    "# Calculate the R2 score\n",
    "r2 = r2_score(y_actual, y_pred)\n",
    "\n",
    "print(\"R2 Score:\", r2)\n",
    "\n"
   ]
  },
  {
   "cell_type": "code",
   "execution_count": null,
   "metadata": {},
   "outputs": [],
   "source": [
    "\n",
    "import numpy as np\n",
    "from sklearn.metrics import r2_score\n",
    "\n",
    "y_actual = np.array([1, 2, 3, 4, 5])\n",
    "\n",
    "# Predicted values\n",
    "y_pred = np.array([1.1, 1.9, 3.2, 4.1, 5.0])\n",
    "\n",
    "# Calculate the R2 score\n",
    "r2 = r2_score(y_actual, y_pred)\n",
    "\n",
    "print(\"R2 Score:\", r2)\n",
    "\n"
   ]
  }
 ],
 "metadata": {
  "kernelspec": {
   "display_name": "Python 3",
   "language": "python",
   "name": "python3"
  },
  "language_info": {
   "codemirror_mode": {
    "name": "ipython",
    "version": 3
   },
   "file_extension": ".py",
   "mimetype": "text/x-python",
   "name": "python",
   "nbconvert_exporter": "python",
   "pygments_lexer": "ipython3",
   "version": "3.10.12"
  }
 },
 "nbformat": 4,
 "nbformat_minor": 2
}
