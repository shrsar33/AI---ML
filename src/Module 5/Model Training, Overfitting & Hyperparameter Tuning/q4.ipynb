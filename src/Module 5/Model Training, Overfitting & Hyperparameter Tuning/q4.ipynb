{
 "cells": [
  {
   "cell_type": "markdown",
   "metadata": {},
   "source": [
    "Question 4: Hyperparameter Tuning with RandomizedSearchCV<br>\n",
    "Task: Use RandomizedSearchCV to optimize hyperparameters for a RandomForestClassifier."
   ]
  },
  {
   "cell_type": "code",
   "execution_count": null,
   "metadata": {},
   "outputs": [],
   "source": [
    "import torch\n",
    "import torch.nn as nn\n",
    "import numpy as np\n",
    "import matplotlib.pyplot as plt\n",
    "\n",
    "# Generate noisy dataset\n",
    "np.random.seed(0)\n",
    "X = np.random.rand(100, 1) * 10\n",
    "y = 3 + 2 * X[:, 0] + np.random.randn(100) * 2  # added noise\n",
    "\n",
    "# Define a simple linear regression model\n",
    "class LinearRegression(nn.Module):\n",
    "    def __init__(self):\n",
    "        super(LinearRegression, self).__init__()\n",
    "        self.fc1 = nn.Linear(1, 1)\n",
    "\n",
    "    def forward(self, x):\n",
    "        return self.fc1(x)\n",
    "\n",
    "# Define a Ridge regression model\n",
    "class RidgeRegression(nn.Module):\n",
    "    def __init__(self):\n",
    "        super(RidgeRegression, self).__init__()\n",
    "        self.fc1 = nn.Linear(1, 1)\n",
    "\n",
    "    def forward(self, x):\n",
    "        return self.fc1(x)\n",
    "\n",
    "# Train the models\n",
    "model_linear = LinearRegression()\n",
    "model_ridge = RidgeRegression()\n",
    "\n",
    "# Define loss functions and optimizers\n",
    "criterion_linear = nn.MSELoss()\n",
    "criterion_ridge = nn.MSELoss()\n",
    "optimizer_linear = torch.optim.SGD(model_linear.parameters(), lr=0.01)\n",
    "optimizer_ridge = torch.optim.SGD(model_ridge.parameters(), lr=0.01, weight_decay=0.1)  # L2 regularization\n",
    "\n",
    "# Train the models\n",
    "for epoch in range(1000):\n",
    "    optimizer_linear.zero_grad()\n",
    "    optimizer_ridge.zero_grad()\n",
    "    outputs_linear = model_linear(torch.tensor(X, dtype=torch.float32))\n",
    "    outputs_ridge = model_ridge(torch.tensor(X, dtype=torch.float32))\n",
    "    loss_linear = criterion_linear(outputs_linear, torch.tensor(y.reshape(-1, 1), dtype=torch.float32))\n",
    "    loss_ridge = criterion_ridge(outputs_ridge, torch.tensor(y.reshape(-1, 1), dtype=torch.float32))\n",
    "    loss_linear.backward()\n",
    "    loss_ridge.backward()\n",
    "    optimizer_linear.step()\n",
    "    optimizer_ridge.step()\n",
    "\n",
    "# Plot the data and regression lines\n",
    "plt.scatter(X, y, label='Data')\n",
    "plt.plot(X, model_linear(torch.tensor(X, dtype=torch.float32)).detach().numpy(), label='Simple Linear Regression', color='red')\n",
    "plt.plot(X, model_ridge(torch.tensor(X, dtype=torch.float32)).detach().numpy(), label='Ridge Regression', color='green')\n",
    "plt.legend()\n",
    "plt.show()\n"
   ]
  }
 ],
 "metadata": {
  "kernelspec": {
   "display_name": "Python 3",
   "language": "python",
   "name": "python3"
  },
  "language_info": {
   "codemirror_mode": {
    "name": "ipython",
    "version": 3
   },
   "file_extension": ".py",
   "mimetype": "text/x-python",
   "name": "python",
   "nbconvert_exporter": "python",
   "pygments_lexer": "ipython3",
   "version": "3.10.12"
  }
 },
 "nbformat": 4,
 "nbformat_minor": 2
}
