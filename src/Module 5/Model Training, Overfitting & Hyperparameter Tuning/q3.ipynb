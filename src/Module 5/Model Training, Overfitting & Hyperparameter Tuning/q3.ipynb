{
 "cells": [
  {
   "cell_type": "markdown",
   "metadata": {},
   "source": [
    "Question 3: Decision Trees with Cross-Validation<br>\n",
    "Task: Implement cross-validation for decision trees to find the best performing model on a\n",
    "classification problem."
   ]
  },
  {
   "cell_type": "code",
   "execution_count": null,
   "metadata": {},
   "outputs": [],
   "source": [
    "import numpy as np\n",
    "import matplotlib.pyplot as plt\n",
    "from sklearn.linear_model import LinearRegression, Ridge\n",
    "\n",
    "# Generate noisy dataset\n",
    "np.random.seed(0)\n",
    "X = np.random.rand(100, 1) * 10\n",
    "y = 3 + 2 * X[:, 0] + np.random.randn(100) * 2  # added noise\n",
    "\n",
    "# Simple Linear Regression\n",
    "model_linear = LinearRegression()\n",
    "model_linear.fit(X, y)\n",
    "\n",
    "# Ridge Regression\n",
    "model_ridge = Ridge(alpha=1.0)\n",
    "model_ridge.fit(X, y)\n",
    "\n",
    "# Plot the data and regression lines\n",
    "plt.scatter(X, y, label='Data')\n",
    "plt.plot(X, model_linear.predict(X), label='Simple Linear Regression', color='red')\n",
    "plt.plot(X, model_ridge.predict(X), label='Ridge Regression', color='green')\n",
    "plt.legend()\n",
    "plt.show()\n",
    "\n",
    "# Evaluate the models\n",
    "print(\"Simple Linear Regression Coefficients:\", model_linear.coef_)\n",
    "print(\"Ridge Regression Coefficients:\", model_ridge.coef_)\n"
   ]
  }
 ],
 "metadata": {
  "kernelspec": {
   "display_name": "Python 3",
   "language": "python",
   "name": "python3"
  },
  "language_info": {
   "codemirror_mode": {
    "name": "ipython",
    "version": 3
   },
   "file_extension": ".py",
   "mimetype": "text/x-python",
   "name": "python",
   "nbconvert_exporter": "python",
   "pygments_lexer": "ipython3",
   "version": "3.10.12"
  }
 },
 "nbformat": 4,
 "nbformat_minor": 2
}
