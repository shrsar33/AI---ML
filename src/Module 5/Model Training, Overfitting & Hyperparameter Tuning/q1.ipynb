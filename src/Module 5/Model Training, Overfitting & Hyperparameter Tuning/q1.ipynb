{
 "cells": [
  {
   "cell_type": "markdown",
   "metadata": {},
   "source": [
    "Question 1: Understanding Overfitting with Polynomial Regression<br>\n",
    "Task: Compare linear vs polynomial regression to observe overfitting."
   ]
  },
  {
   "cell_type": "code",
   "execution_count": null,
   "metadata": {},
   "outputs": [],
   "source": [
    "import numpy as np\n",
    "import matplotlib.pyplot as plt\n",
    "from sklearn.linear_model import LinearRegression\n",
    "from sklearn.preprocessing import PolynomialFeatures\n",
    "from sklearn.pipeline import Pipeline\n",
    "\n",
    "# Generate sample data\n",
    "np.random.seed(0)\n",
    "X = np.random.rand(100, 1) * 10\n",
    "y = 3 + 2 * X[:, 0] + np.random.randn(100) / 1.5\n",
    "\n",
    "# Linear Regression\n",
    "model_linear = LinearRegression()\n",
    "model_linear.fit(X, y)\n",
    "\n",
    "# Polynomial Regression (degree 2)\n",
    "model_poly2 = Pipeline([\n",
    "    ('poly_features', PolynomialFeatures(degree=2)),\n",
    "    ('linear_regression', LinearRegression())\n",
    "])\n",
    "model_poly2.fit(X, y)\n",
    "\n",
    "# Polynomial Regression (degree 10)\n",
    "model_poly10 = Pipeline([\n",
    "    ('poly_features', PolynomialFeatures(degree=10)),\n",
    "    ('linear_regression', LinearRegression())\n",
    "])\n",
    "model_poly10.fit(X, y)\n",
    "\n",
    "# Plot the data and regression lines\n",
    "plt.scatter(X, y, label='Data')\n",
    "plt.plot(X, model_linear.predict(X), label='Linear Regression', color='red')\n",
    "plt.plot(X, model_poly2.predict(X), label='Polynomial Regression (degree 2)', color='green')\n",
    "plt.plot(X, model_poly10.predict(X), label='Polynomial Regression (degree 10)', color='blue')\n",
    "plt.legend()\n",
    "plt.show()\n",
    "\n"
   ]
  }
 ],
 "metadata": {
  "kernelspec": {
   "display_name": "Python 3",
   "language": "python",
   "name": "python3"
  },
  "language_info": {
   "codemirror_mode": {
    "name": "ipython",
    "version": 3
   },
   "file_extension": ".py",
   "mimetype": "text/x-python",
   "name": "python",
   "nbconvert_exporter": "python",
   "pygments_lexer": "ipython3",
   "version": "3.10.12"
  }
 },
 "nbformat": 4,
 "nbformat_minor": 2
}
