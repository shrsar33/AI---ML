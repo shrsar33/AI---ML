{
 "cells": [
  {
   "cell_type": "code",
   "execution_count": null,
   "metadata": {},
   "outputs": [],
   "source": [
    "\n",
    "import numpy as np\n",
    "from sklearn.cluster import KMeans\n",
    "import matplotlib.pyplot as plt\n",
    "from PIL import Image\n",
    "import urllib.request\n",
    "import io\n",
    "\n",
    "# Load the image\n",
    "url = 'https://matplotlib.org/stable/_images/stinkbug.png'\n",
    "with urllib.request.urlopen(url) as url_response:\n",
    "    img = Image.open(io.BytesIO(url_response.read()))\n",
    "\n",
    "img = np.array(img)\n",
    "\n",
    "# Check if the image is grayscale or color\n",
    "if len(img.shape) == 2:\n",
    "    # Grayscale image\n",
    "    w, h = img.shape\n",
    "    img_array = np.reshape(img, (w * h, 1))\n",
    "else:\n",
    "    # Color image\n",
    "    w, h, d = img.shape\n",
    "    img_array = np.reshape(img, (w * h, d))\n",
    "\n",
    "# Perform K-Means clustering\n",
    "n_colors = 16\n",
    "kmeans = KMeans(n_clusters=n_colors, random_state=0).fit(img_array)\n",
    "\n",
    "# Get the cluster labels\n",
    "labels = kmeans.predict(img_array)\n",
    "\n",
    "# Create the compressed image\n",
    "compressed_img_array = kmeans.cluster_centers_[labels]\n",
    "if len(img.shape) == 2:\n",
    "    compressed_img = np.reshape(compressed_img_array, (w, h)).astype('uint8')\n",
    "else:\n",
    "    compressed_img = np.reshape(compressed_img_array, (w, h, d)).astype('uint8')\n",
    "\n",
    "# Plot the original and compressed images\n",
    "fig, ax = plt.subplots(1, 2, figsize=(16, 8))\n",
    "ax[0].imshow(img, cmap='gray' if len(img.shape) == 2 else None)\n",
    "ax[0].set_title('Original Image')\n",
    "ax[1].imshow(compressed_img, cmap='gray' if len(img.shape) == 2 else None)\n",
    "ax[1].set_title(f'Compressed Image ({n_colors} colors)')\n",
    "plt.show()\n"
   ]
  }
 ],
 "metadata": {
  "kernelspec": {
   "display_name": "Python 3",
   "language": "python",
   "name": "python3"
  },
  "language_info": {
   "codemirror_mode": {
    "name": "ipython",
    "version": 3
   },
   "file_extension": ".py",
   "mimetype": "text/x-python",
   "name": "python",
   "nbconvert_exporter": "python",
   "pygments_lexer": "ipython3",
   "version": "3.10.12"
  }
 },
 "nbformat": 4,
 "nbformat_minor": 2
}
