{
 "cells": [
  {
   "cell_type": "code",
   "execution_count": null,
   "metadata": {},
   "outputs": [],
   "source": [
    "import numpy as np\n",
    "from sklearn.cluster import KMeans\n",
    "from sklearn.mixture import GaussianMixture\n",
    "import matplotlib.pyplot as plt\n",
    "\n",
    "# Sample customer transaction history data\n",
    "np.random.seed(0)\n",
    "customer_data = np.random.rand(100, 2)\n",
    "\n",
    "# Task 1: K-Means Clustering\n",
    "kmeans = KMeans(n_clusters=3)\n",
    "kmeans.fit(customer_data)\n",
    "plt.figure(figsize=(8, 6))\n",
    "plt.scatter(customer_data[:, 0], customer_data[:, 1], c=kmeans.labels_)\n",
    "plt.scatter(kmeans.cluster_centers_[:, 0], kmeans.cluster_centers_[:, 1], marker='*', s=200, c='red')\n",
    "plt.title(\"K-Means Clustering\")\n",
    "plt.show()\n",
    "\n",
    "# Task 2: Gaussian Mixture Models (GMM)\n",
    "gmm = GaussianMixture(n_components=3)\n",
    "gmm.fit(customer_data)\n",
    "labels = gmm.predict(customer_data)\n",
    "plt.figure(figsize=(8, 6))\n",
    "plt.scatter(customer_data[:, 0], customer_data[:, 1], c=labels)\n",
    "plt.title(\"Gaussian Mixture Models\")\n",
    "plt.show()\n",
    "\n",
    "# Task 3: K-Means Clustering for Travel Packages\n",
    "travel_data = np.random.rand(100, 2)\n",
    "kmeans_travel = KMeans(n_clusters=3)\n",
    "kmeans_travel.fit(travel_data)\n",
    "plt.figure(figsize=(8, 6))\n",
    "plt.scatter(travel_data[:, 0], travel_data[:, 1], c=kmeans_travel.labels_)\n",
    "plt.scatter(kmeans_travel.cluster_centers_[:, 0], kmeans_travel.cluster_centers_[:, 1], marker='*', s=200, c='red')\n",
    "plt.title(\"K-Means Clustering for Travel Packages\")\n",
    "plt.show()\n"
   ]
  }
 ],
 "metadata": {
  "kernelspec": {
   "display_name": "Python 3",
   "language": "python",
   "name": "python3"
  },
  "language_info": {
   "codemirror_mode": {
    "name": "ipython",
    "version": 3
   },
   "file_extension": ".py",
   "mimetype": "text/x-python",
   "name": "python",
   "nbconvert_exporter": "python",
   "pygments_lexer": "ipython3",
   "version": "3.10.12"
  }
 },
 "nbformat": 4,
 "nbformat_minor": 2
}
