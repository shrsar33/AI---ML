{
 "cells": [
  {
   "cell_type": "code",
   "execution_count": null,
   "metadata": {},
   "outputs": [],
   "source": [
    "from sklearn.decomposition import LatentDirichletAllocation\n",
    "from sklearn.feature_extraction.text import CountVectorizer, TfidfVectorizer\n",
    "from sklearn.cluster import KMeans\n",
    "from scipy.cluster.hierarchy import dendrogram, linkage\n",
    "import numpy as np\n",
    "import matplotlib.pyplot as plt\n",
    "\n",
    "# Sample data\n",
    "articles = [\n",
    "    \"The economy is growing rapidly, with new jobs being created every day.\",\n",
    "    \"The government has announced a new policy to boost economic growth.\",\n",
    "    \"The stock market is experiencing a downturn, with many investors losing money.\",\n",
    "    \"A new study has found that climate change is having a significant impact on the environment.\",\n",
    "    \"The government has launched a new initiative to reduce carbon emissions.\",\n",
    "    \"This book is about machine learning and artificial intelligence.\",\n",
    "    \"Machine learning is a field of artificial intelligence that involves training models on data.\",\n",
    "    \"Artificial intelligence is a broad field that includes machine learning and natural language processing.\",\n",
    "    \"Natural language processing is a subfield of artificial intelligence that deals with text and language.\",\n",
    "    \"Machine learning models can be trained on large datasets to make predictions and classify data.\",\n",
    "    \"This document is about contract law and breach of contract.\",\n",
    "    \"Contract law is a branch of law that deals with agreements between parties.\",\n",
    "    \"Breach of contract occurs when one party fails to fulfill their obligations.\",\n",
    "    \"A new case has been filed in court regarding a breach of contract.\",\n",
    "    \"The court has ruled in favor of the plaintiff in the breach of contract case.\"\n",
    "]\n",
    "\n",
    "# Task 1: Latent Dirichlet Allocation (LDA)\n",
    "vectorizer = CountVectorizer()\n",
    "article_vectors = vectorizer.fit_transform(articles[:5])\n",
    "lda = LatentDirichletAllocation(n_components=5)\n",
    "lda.fit(article_vectors)\n",
    "feature_names = vectorizer.get_feature_names_out()\n",
    "for topic_idx, topic in enumerate(lda.components_):\n",
    "    print(f\"Topic {topic_idx}:\")\n",
    "    print(\" \".join([feature_names[i] for i in topic.argsort()[:-5 - 1:-1]]))\n",
    "\n",
    "# Task 2: K-Means Clustering\n",
    "vectorizer = TfidfVectorizer()\n",
    "book_vectors = vectorizer.fit_transform(articles[5:10])\n",
    "kmeans = KMeans(n_clusters=3)\n",
    "kmeans.fit(book_vectors)\n",
    "print(\"Cluster labels:\")\n",
    "print(kmeans.labels_)\n",
    "\n",
    "# Task 3: Hierarchical Clustering\n",
    "document_vectors = vectorizer.fit_transform(articles[10:])\n",
    "Z = linkage(document_vectors.toarray(), method='ward')\n",
    "plt.figure(figsize=(10, 7))\n",
    "dendrogram(Z)\n",
    "plt.show()\n"
   ]
  }
 ],
 "metadata": {
  "kernelspec": {
   "display_name": "Python 3",
   "language": "python",
   "name": "python3"
  },
  "language_info": {
   "codemirror_mode": {
    "name": "ipython",
    "version": 3
   },
   "file_extension": ".py",
   "mimetype": "text/x-python",
   "name": "python",
   "nbconvert_exporter": "python",
   "pygments_lexer": "ipython3",
   "version": "3.10.12"
  }
 },
 "nbformat": 4,
 "nbformat_minor": 2
}
