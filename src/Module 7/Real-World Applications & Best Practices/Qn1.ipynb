{
 "cells": [
  {
   "cell_type": "code",
   "execution_count": null,
   "metadata": {},
   "outputs": [],
   "source": [
    "import numpy as np\n",
    "from sklearn.cluster import KMeans, DBSCAN\n",
    "from scipy.cluster.hierarchy import dendrogram, linkage, fcluster\n",
    "import matplotlib.pyplot as plt\n",
    "\n",
    "# Task 1: K-Means Clustering\n",
    "claims_data = np.random.rand(100, 2)\n",
    "kmeans = KMeans(n_clusters=3)\n",
    "kmeans.fit(claims_data)\n",
    "plt.figure(figsize=(8, 6))\n",
    "plt.scatter(claims_data[:, 0], claims_data[:, 1], c=kmeans.labels_)\n",
    "plt.scatter(kmeans.cluster_centers_[:, 0], kmeans.cluster_centers_[:, 1], marker='*', s=200, c='red')\n",
    "plt.title(\"K-Means Clustering\")\n",
    "plt.show()\n",
    "\n",
    "# Task 2: Hierarchical Clustering\n",
    "transaction_data = np.random.rand(100, 2)\n",
    "Z = linkage(transaction_data, method='ward')\n",
    "plt.figure(figsize=(10, 7))\n",
    "dendrogram(Z)\n",
    "plt.title(\"Hierarchical Clustering Dendrogram\")\n",
    "plt.show()\n",
    "cluster_labels = fcluster(Z, 3, criterion='maxclust')\n",
    "plt.scatter(transaction_data[:, 0], transaction_data[:, 1], c=cluster_labels)\n",
    "plt.title(\"Hierarchical Clustering\")\n",
    "plt.show()\n",
    "\n",
    "# Task 3: DBSCAN\n",
    "transaction_data = np.random.rand(100, 2)\n",
    "dbscan = DBSCAN(eps=0.5, min_samples=10)\n",
    "dbscan.fit(transaction_data)\n",
    "noise_points = transaction_data[dbscan.labels_ == -1]\n",
    "plt.scatter(transaction_data[:, 0], transaction_data[:, 1], c=dbscan.labels_)\n",
    "plt.scatter(noise_points[:, 0], noise_points[:, 1], marker='x', s=100, c='red')\n",
    "plt.title(\"DBSCAN\")\n",
    "plt.show()\n"
   ]
  }
 ],
 "metadata": {
  "kernelspec": {
   "display_name": "Python 3",
   "language": "python",
   "name": "python3"
  },
  "language_info": {
   "codemirror_mode": {
    "name": "ipython",
    "version": 3
   },
   "file_extension": ".py",
   "mimetype": "text/x-python",
   "name": "python",
   "nbconvert_exporter": "python",
   "pygments_lexer": "ipython3",
   "version": "3.10.12"
  }
 },
 "nbformat": 4,
 "nbformat_minor": 2
}
