{
 "cells": [
  {
   "cell_type": "code",
   "execution_count": null,
   "metadata": {},
   "outputs": [],
   "source": [
    "import numpy as np\n",
    "import matplotlib.pyplot as plt\n",
    "from sklearn.cluster import AgglomerativeClustering\n",
    "from sklearn.datasets import make_blobs\n",
    "from scipy.cluster.hierarchy import dendrogram, linkage\n",
    "\n",
    "# Generate a sample dataset\n",
    "np.random.seed(0)\n",
    "X, _ = make_blobs(n_samples=50, centers=3, n_features=2, cluster_std=0.8, random_state=0)\n",
    "\n",
    "# Perform hierarchical clustering\n",
    "cluster = AgglomerativeClustering(n_clusters=3, linkage='ward')\n",
    "cluster_labels = cluster.fit_predict(X)\n",
    "\n",
    "# Visualize the clusters\n",
    "plt.scatter(X[:, 0], X[:, 1], c=cluster_labels)\n",
    "plt.title(\"Hierarchical Clustering\")\n",
    "plt.show()\n",
    "\n",
    "# Visualize the dendrogram\n",
    "Z = linkage(X, method='ward')\n",
    "plt.figure(figsize=(10, 7))\n",
    "dendrogram(Z)\n",
    "plt.title(\"Dendrogram\")\n",
    "plt.show()\n"
   ]
  }
 ],
 "metadata": {
  "kernelspec": {
   "display_name": "Python 3",
   "language": "python",
   "name": "python3"
  },
  "language_info": {
   "codemirror_mode": {
    "name": "ipython",
    "version": 3
   },
   "file_extension": ".py",
   "mimetype": "text/x-python",
   "name": "python",
   "nbconvert_exporter": "python",
   "pygments_lexer": "ipython3",
   "version": "3.10.12"
  }
 },
 "nbformat": 4,
 "nbformat_minor": 2
}
