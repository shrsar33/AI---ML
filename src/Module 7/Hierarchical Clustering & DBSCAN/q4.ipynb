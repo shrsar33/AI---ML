{
 "cells": [
  {
   "cell_type": "code",
   "execution_count": null,
   "metadata": {},
   "outputs": [],
   "source": [
    "import numpy as np\n",
    "import matplotlib.pyplot as plt\n",
    "from sklearn.cluster import DBSCAN\n",
    "from sklearn.datasets import make_moons\n",
    "\n",
    "# Generate a sample dataset\n",
    "X, _ = make_moons(n_samples=200, noise=0.05)\n",
    "\n",
    "# Perform DBSCAN clustering\n",
    "dbscan = DBSCAN(eps=0.3, min_samples=10)\n",
    "dbscan_labels = dbscan.fit_predict(X)\n",
    "\n",
    "# Visualize the clusters\n",
    "plt.scatter(X[:, 0], X[:, 1], c=dbscan_labels)\n",
    "plt.title(\"DBSCAN Clustering\")\n",
    "plt.show()\n",
    "\n",
    "# Identify core samples and anomalies\n",
    "core_samples = dbscan.core_sample_indices_\n",
    "anomalies = np.where(dbscan_labels == -1)[0]\n",
    "\n",
    "print(\"Number of core samples:\", len(core_samples))\n",
    "print(\"Number of anomalies:\", len(anomalies))\n",
    "\n",
    "# Visualize core samples and anomalies\n",
    "plt.scatter(X[:, 0], X[:, 1], c=dbscan_labels)\n",
    "plt.scatter(X[anomalies, 0], X[anomalies, 1], c='red', marker='x', s=100, label='Anomalies')\n",
    "plt.legend()\n",
    "plt.title(\"DBSCAN Clustering with Anomalies\")\n",
    "plt.show()\n"
   ]
  }
 ],
 "metadata": {
  "kernelspec": {
   "display_name": "Python 3",
   "language": "python",
   "name": "python3"
  },
  "language_info": {
   "codemirror_mode": {
    "name": "ipython",
    "version": 3
   },
   "file_extension": ".py",
   "mimetype": "text/x-python",
   "name": "python",
   "nbconvert_exporter": "python",
   "pygments_lexer": "ipython3",
   "version": "3.10.12"
  }
 },
 "nbformat": 4,
 "nbformat_minor": 2
}
