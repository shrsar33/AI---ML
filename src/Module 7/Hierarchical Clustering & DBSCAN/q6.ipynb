{
 "cells": [
  {
   "cell_type": "code",
   "execution_count": null,
   "metadata": {},
   "outputs": [],
   "source": [
    "import numpy as np\n",
    "import matplotlib.pyplot as plt\n",
    "from scipy.cluster.hierarchy import dendrogram, linkage\n",
    "from scipy.spatial.distance import pdist\n",
    "\n",
    "# Generate a sample dataset\n",
    "np.random.seed(0)\n",
    "X = np.random.rand(10, 2)\n",
    "\n",
    "# Calculate the distance matrix\n",
    "dist_matrix = pdist(X)\n",
    "\n",
    "# Generate the linkage matrix\n",
    "Z = linkage(dist_matrix, method='ward')\n",
    "\n",
    "# Create a figure with a dendrogram\n",
    "plt.figure(figsize=(10, 7))\n",
    "dendrogram(Z, leaf_rotation=90, leaf_font_size=12)\n",
    "\n",
    "# Annotate thresholds\n",
    "thresholds = [0.5, 1.0, 1.5]\n",
    "for threshold in thresholds:\n",
    "    plt.axhline(y=threshold, color='red', linestyle='--', label=f'Threshold={threshold}')\n",
    "\n",
    "plt.title(\"Custom Dendrogram with Annotated Thresholds\")\n",
    "plt.legend()\n",
    "plt.show()\n",
    "\n",
    "# Determine optimal cluster number based on threshold\n",
    "from scipy.cluster.hierarchy import fcluster\n",
    "optimal_cluster_number = []\n",
    "for threshold in thresholds:\n",
    "    cluster_labels = fcluster(Z, t=threshold, criterion='distance')\n",
    "    optimal_cluster_number.append(len(np.unique(cluster_labels)))\n",
    "\n",
    "print(\"Optimal cluster numbers for different thresholds:\", optimal_cluster_number)\n",
    "\n"
   ]
  }
 ],
 "metadata": {
  "kernelspec": {
   "display_name": "Python 3",
   "language": "python",
   "name": "python3"
  },
  "language_info": {
   "codemirror_mode": {
    "name": "ipython",
    "version": 3
   },
   "file_extension": ".py",
   "mimetype": "text/x-python",
   "name": "python",
   "nbconvert_exporter": "python",
   "pygments_lexer": "ipython3",
   "version": "3.10.12"
  }
 },
 "nbformat": 4,
 "nbformat_minor": 2
}
