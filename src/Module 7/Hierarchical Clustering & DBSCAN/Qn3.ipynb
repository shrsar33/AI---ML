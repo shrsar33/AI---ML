{
 "cells": [
  {
   "cell_type": "code",
   "execution_count": 1,
   "metadata": {},
   "outputs": [],
   "source": [
    "import numpy as np\n",
    "from sklearn.cluster import DBSCAN\n",
    "import matplotlib.pyplot as plt\n",
    "\n",
    "# Task 1: DBSCAN on Uniform Data\n",
    "data = np.array([(-1, -1), (0, 0), (1, 1), (9, 9), (10, 10)])\n",
    "dbscan = DBSCAN(eps=0.5, min_samples=2)\n",
    "dbscan_labels = dbscan.fit_predict(data)\n",
    "\n",
    "print(\"DBSCAN Labels:\")\n",
    "print(dbscan_labels)\n",
    "\n",
    "# Identify points treated as noise/outliers\n",
    "outlier_indices = np.where(dbscan_labels == -1)[0]\n",
    "print(\"Outlier Indices:\")\n",
    "print(outlier_indices)\n",
    "\n",
    "# Task 2: Detecting Anomalies in a Simple Dataset\n",
    "data = np.array([(0, 0), (0, 1), (1, 0), (10, 10), (11, 11)])\n",
    "dbscan = DBSCAN(eps=1, min_samples=2)\n",
    "dbscan_labels = dbscan.fit_predict(data)\n",
    "\n",
    "print(\"DBSCAN Labels:\")\n",
    "print(dbscan_labels)\n",
    "\n",
    "# Analyze the resulting clusters and classify any points identified as outliers\n",
    "outlier_indices = np.where(dbscan_labels == -1)[0]\n",
    "print(\"Outlier Indices:\")\n",
    "print(outlier_indices)\n",
    "\n",
    "# Visualize the clusters\n",
    "plt.scatter(data[:, 0], data[:, 1], c=dbscan_labels)\n",
    "plt.title(\"DBSCAN Clustering\")\n",
    "plt.show()\n",
    "\n",
    "# Task 3: Exploring Real World Data\n",
    "# For demonstration purposes, we'll use a simple simulated dataset\n",
    "np.random.seed(0)\n",
    "data = np.random.rand(100, 2)\n",
    "anomalies = np.array([[5, 5], [6, 6]])\n",
    "data = np.vstack((data, anomalies))\n",
    "\n",
    "dbscan = DBSCAN(eps=0.5, min_samples=5)\n",
    "dbscan_labels = dbscan.fit_predict(data)\n",
    "\n",
    "# Identify and discuss the points that are marked as noise\n",
    "outlier_indices = np.where(dbscan_labels == -1)[0]\n",
    "print(\"Outlier Indices:\")\n",
    "print(outlier_indices)\n",
    "\n",
    "# Visualize the clusters\n",
    "plt.scatter(data[:, 0], data[:, 1], c=dbscan_labels)\n",
    "plt.title(\"DBSCAN Clustering on Simulated Real-World Data\")\n",
    "plt.show()\n",
    "\n"
   ]
  }
 ],
 "metadata": {
  "kernelspec": {
   "display_name": "Python 3",
   "language": "python",
   "name": "python3"
  },
  "language_info": {
   "codemirror_mode": {
    "name": "ipython",
    "version": 3
   },
   "file_extension": ".py",
   "mimetype": "text/x-python",
   "name": "python",
   "nbconvert_exporter": "python",
   "pygments_lexer": "ipython3",
   "version": "3.10.12"
  }
 },
 "nbformat": 4,
 "nbformat_minor": 2
}
