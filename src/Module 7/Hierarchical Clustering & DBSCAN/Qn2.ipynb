{
 "cells": [
  {
   "cell_type": "code",
   "execution_count": null,
   "metadata": {},
   "outputs": [],
   "source": [
    "import numpy as np\n",
    "from scipy.cluster.hierarchy import dendrogram, linkage\n",
    "from scipy.cluster.hierarchy import fcluster\n",
    "from sklearn.datasets import load_iris\n",
    "import matplotlib.pyplot as plt\n",
    "\n",
    "# Task 1: Visualizing Agglomerative Clustering\n",
    "data = np.array([1, 2, 5, 10, 15, 30]).reshape(-1, 1)\n",
    "Z = linkage(data, method='ward')\n",
    "plt.figure(figsize=(10, 7))\n",
    "dendrogram(Z)\n",
    "plt.title(\"Dendrogram for Agglomerative Clustering\")\n",
    "plt.show()\n",
    "\n",
    "# Identify the optimal number of clusters by selecting a threshold\n",
    "threshold = 10\n",
    "clusters = fcluster(Z, t=threshold, criterion='distance')\n",
    "print(\"Optimal number of clusters:\", np.max(clusters))\n",
    "\n",
    "# Task 2: Visualizing Divisive Clustering\n",
    "# Note: Divisive clustering is not directly implemented in scipy or scikit-learn.\n",
    "# We'll use Agglomerative Clustering to simulate a dendrogram for comparison.\n",
    "data = np.array([(1, 2), (3, 4), (5, 5), (8, 9), (12, 15)])\n",
    "Z = linkage(data, method='ward')\n",
    "plt.figure(figsize=(10, 7))\n",
    "dendrogram(Z)\n",
    "plt.title(\"Dendrogram for Divisive Clustering (simulated using Agglomerative Clustering)\")\n",
    "plt.show()\n",
    "\n",
    "# Task 3: Dendrogram Interpretation on a Real Dataset\n",
    "iris = load_iris()\n",
    "data = iris.data\n",
    "Z = linkage(data, method='ward')\n",
    "plt.figure(figsize=(10, 7))\n",
    "dendrogram(Z, truncate_mode='level', p=3)\n",
    "plt.title(\"Dendrogram for Iris Dataset\")\n",
    "plt.show()\n"
   ]
  }
 ],
 "metadata": {
  "kernelspec": {
   "display_name": "Python 3",
   "language": "python",
   "name": "python3"
  },
  "language_info": {
   "codemirror_mode": {
    "name": "ipython",
    "version": 3
   },
   "file_extension": ".py",
   "mimetype": "text/x-python",
   "name": "python",
   "nbconvert_exporter": "python",
   "pygments_lexer": "ipython3",
   "version": "3.10.12"
  }
 },
 "nbformat": 4,
 "nbformat_minor": 2
}
