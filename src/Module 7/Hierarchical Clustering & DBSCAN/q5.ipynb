{
 "cells": [
  {
   "cell_type": "code",
   "execution_count": null,
   "metadata": {},
   "outputs": [],
   "source": [
    "import numpy as np\n",
    "import matplotlib.pyplot as plt\n",
    "from sklearn.cluster import DBSCAN\n",
    "from sklearn.datasets import make_moons\n",
    "\n",
    "# Generate a sample dataset\n",
    "X, _ = make_moons(n_samples=200, noise=0.05)\n",
    "\n",
    "# Define DBSCAN parameters\n",
    "eps_values = [0.1, 0.3, 0.5]\n",
    "min_samples_values = [5, 10, 20]\n",
    "\n",
    "# Create a figure with subplots\n",
    "fig, axs = plt.subplots(len(eps_values), len(min_samples_values), figsize=(15, 10))\n",
    "\n",
    "# Iterate over DBSCAN parameters\n",
    "for i, eps in enumerate(eps_values):\n",
    "    for j, min_samples in enumerate(min_samples_values):\n",
    "        dbscan = DBSCAN(eps=eps, min_samples=min_samples)\n",
    "        dbscan_labels = dbscan.fit_predict(X)\n",
    "        \n",
    "        # Visualize the clusters\n",
    "        axs[i, j].scatter(X[:, 0], X[:, 1], c=dbscan_labels)\n",
    "        axs[i, j].set_title(f\"eps={eps}, min_samples={min_samples}\")\n",
    "\n",
    "# Layout so plots do not overlap\n",
    "fig.tight_layout()\n",
    "\n",
    "plt.show()\n"
   ]
  }
 ],
 "metadata": {
  "kernelspec": {
   "display_name": "Python 3",
   "language": "python",
   "name": "python3"
  },
  "language_info": {
   "codemirror_mode": {
    "name": "ipython",
    "version": 3
   },
   "file_extension": ".py",
   "mimetype": "text/x-python",
   "name": "python",
   "nbconvert_exporter": "python",
   "pygments_lexer": "ipython3",
   "version": "3.10.12"
  }
 },
 "nbformat": 4,
 "nbformat_minor": 2
}
