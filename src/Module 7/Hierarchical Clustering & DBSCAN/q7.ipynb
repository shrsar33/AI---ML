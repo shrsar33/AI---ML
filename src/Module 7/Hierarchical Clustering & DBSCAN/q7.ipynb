{
 "cells": [
  {
   "cell_type": "code",
   "execution_count": null,
   "metadata": {},
   "outputs": [],
   "source": [
    "import pandas as pd\n",
    "import numpy as np\n",
    "from sklearn.cluster import DBSCAN\n",
    "from sklearn.preprocessing import StandardScaler\n",
    "import matplotlib.pyplot as plt\n",
    "\n",
    "# Load the dataset\n",
    "# For this example, we'll use a sample credit card transaction dataset\n",
    "# You can replace this with your own dataset\n",
    "np.random.seed(0)\n",
    "n_transactions = 1000\n",
    "n_anomalies = 50\n",
    "transactions = np.random.rand(n_transactions, 2)\n",
    "anomalies = np.random.rand(n_anomalies, 2) * 5 + 5\n",
    "data = np.vstack((transactions, anomalies))\n",
    "\n",
    "# Scale the data\n",
    "scaler = StandardScaler()\n",
    "scaled_data = scaler.fit_transform(data)\n",
    "\n",
    "# Perform DBSCAN clustering\n",
    "dbscan = DBSCAN(eps=0.5, min_samples=10)\n",
    "dbscan_labels = dbscan.fit_predict(scaled_data)\n",
    "\n",
    "# Identify anomalies\n",
    "anomaly_indices = np.where(dbscan_labels == -1)[0]\n",
    "\n",
    "# Visualize the results\n",
    "plt.scatter(scaled_data[:, 0], scaled_data[:, 1], c=dbscan_labels)\n",
    "plt.scatter(scaled_data[anomaly_indices, 0], scaled_data[anomaly_indices, 1], c='red', marker='x', s=100, label='Anomalies')\n",
    "plt.legend()\n",
    "plt.title(\"DBSCAN Anomaly Detection\")\n",
    "plt.show()\n",
    "\n",
    "print(\"Number of anomalies detected:\", len(anomaly_indices))\n"
   ]
  }
 ],
 "metadata": {
  "kernelspec": {
   "display_name": "Python 3",
   "language": "python",
   "name": "python3"
  },
  "language_info": {
   "codemirror_mode": {
    "name": "ipython",
    "version": 3
   },
   "file_extension": ".py",
   "mimetype": "text/x-python",
   "name": "python",
   "nbconvert_exporter": "python",
   "pygments_lexer": "ipython3",
   "version": "3.10.12"
  }
 },
 "nbformat": 4,
 "nbformat_minor": 2
}
