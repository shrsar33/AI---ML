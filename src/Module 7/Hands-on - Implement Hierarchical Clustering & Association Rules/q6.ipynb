{
 "cells": [
  {
   "cell_type": "code",
   "execution_count": null,
   "metadata": {},
   "outputs": [],
   "source": [
    "import numpy as np\n",
    "from scipy.cluster.hierarchy import linkage, dendrogram, fcluster\n",
    "from scipy.spatial import distance\n",
    "import pandas as pd\n",
    "\n",
    "# Define the dataset\n",
    "data = pd.DataFrame({\n",
    "    'Feature1': ['A', 'B', 'A', 'B', 'A'],\n",
    "    'Feature2': ['X', 'Y', 'X', 'Y', 'X'],\n",
    "    'Feature3': [1, 2, 1, 2, 1]\n",
    "})\n",
    "\n",
    "# Calculate Gower's distance\n",
    "def gower_distance(data):\n",
    "    num_rows = data.shape[0]\n",
    "    distance_matrix = np.zeros((num_rows, num_rows))\n",
    "    \n",
    "    for i in range(num_rows):\n",
    "        for j in range(i+1, num_rows):\n",
    "            distance_ij = 0\n",
    "            for k in range(data.shape[1]):\n",
    "                if data.iloc[i, k] == data.iloc[j, k]:\n",
    "                    distance_ij += 0\n",
    "                else:\n",
    "                    distance_ij += 1\n",
    "            distance_ij /= data.shape[1]\n",
    "            distance_matrix[i, j] = distance_ij\n",
    "            distance_matrix[j, i] = distance_ij\n",
    "            \n",
    "    return distance_matrix\n",
    "\n",
    "distance_matrix = gower_distance(data)\n",
    "\n",
    "# Perform hierarchical clustering\n",
    "linkage_matrix = linkage(distance_matrix, method='average')\n",
    "\n",
    "# Plot the dendrogram\n",
    "import matplotlib.pyplot as plt\n",
    "plt.figure(figsize=(8, 6))\n",
    "dendrogram(linkage_matrix)\n",
    "plt.title(\"Hierarchical Clustering Dendrogram\")\n",
    "plt.show()\n",
    "\n",
    "# Determine the clusters\n",
    "clusters = fcluster(linkage_matrix, 2, criterion='maxclust')\n",
    "\n",
    "print(\"Cluster labels:\")\n",
    "print(clusters)\n"
   ]
  }
 ],
 "metadata": {
  "kernelspec": {
   "display_name": "Python 3",
   "language": "python",
   "name": "python3"
  },
  "language_info": {
   "codemirror_mode": {
    "name": "ipython",
    "version": 3
   },
   "file_extension": ".py",
   "mimetype": "text/x-python",
   "name": "python",
   "nbconvert_exporter": "python",
   "pygments_lexer": "ipython3",
   "version": "3.10.12"
  }
 },
 "nbformat": 4,
 "nbformat_minor": 2
}
