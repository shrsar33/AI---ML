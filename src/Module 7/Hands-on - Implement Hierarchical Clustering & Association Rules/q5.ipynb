{
 "cells": [
  {
   "cell_type": "code",
   "execution_count": null,
   "metadata": {},
   "outputs": [],
   "source": [
    "import numpy as np\n",
    "from scipy.cluster.hierarchy import linkage, dendrogram, fcluster\n",
    "import matplotlib.pyplot as plt\n",
    "\n",
    "# Define the custom distance metric\n",
    "def custom_distance(point1, point2):\n",
    "    x1, y1 = point1\n",
    "    x2, y2 = point2\n",
    "    return np.sqrt((x1 - x2)**2 + (y1 - y2)**2)  # Euclidean distance\n",
    "\n",
    "# Define the dataset\n",
    "data = np.array([\n",
    "    [1, 2],\n",
    "    [2, 3],\n",
    "    [4, 5],\n",
    "    [5, 6],\n",
    "    [7, 8],\n",
    "    [8, 9]\n",
    "])\n",
    "\n",
    "# Calculate the distance matrix using the custom distance metric\n",
    "from scipy.spatial import distance\n",
    "distance_matrix = distance.cdist(data, data, metric=custom_distance)\n",
    "\n",
    "# Perform hierarchical clustering using the distance matrix\n",
    "linkage_matrix = linkage(distance_matrix, method='ward')\n",
    "\n",
    "# Plot the dendrogram\n",
    "plt.figure(figsize=(8, 6))\n",
    "dendrogram(linkage_matrix)\n",
    "plt.title(\"Hierarchical Clustering Dendrogram\")\n",
    "plt.show()\n",
    "\n",
    "# Determine the clusters\n",
    "clusters = fcluster(linkage_matrix, 2, criterion='maxclust')\n",
    "\n",
    "print(\"Cluster labels:\")\n",
    "print(clusters)\n",
    "\n",
    "# Plot the clusters\n",
    "plt.figure(figsize=(8, 6))\n",
    "plt.scatter(data[:, 0], data[:, 1], c=clusters)\n",
    "plt.title(\"Hierarchical Clustering\")\n",
    "plt.show()\n"
   ]
  }
 ],
 "metadata": {
  "kernelspec": {
   "display_name": "Python 3",
   "language": "python",
   "name": "python3"
  },
  "language_info": {
   "codemirror_mode": {
    "name": "ipython",
    "version": 3
   },
   "file_extension": ".py",
   "mimetype": "text/x-python",
   "name": "python",
   "nbconvert_exporter": "python",
   "pygments_lexer": "ipython3",
   "version": "3.10.12"
  }
 },
 "nbformat": 4,
 "nbformat_minor": 2
}
