{
 "cells": [
  {
   "cell_type": "code",
   "execution_count": null,
   "metadata": {},
   "outputs": [],
   "source": [
    "import pandas as pd\n",
    "from mlxtend.frequent_patterns import apriori, association_rules\n",
    "from mlxtend.preprocessing import TransactionEncoder\n",
    "\n",
    "# Task 1: Market Basket Analysis with Simple Transactions\n",
    "transactions = [\n",
    "    ['milk', 'bread', 'eggs'],\n",
    "    ['milk', 'eggs'],\n",
    "    ['bread', 'eggs'],\n",
    "    ['milk', 'bread', 'eggs', 'cheese'],\n",
    "    ['milk', 'bread']\n",
    "]\n",
    "\n",
    "te = TransactionEncoder()\n",
    "te_ary = te.fit_transform(transactions)\n",
    "df = pd.DataFrame(te_ary, columns=te.columns_)\n",
    "\n",
    "frequent_itemsets = apriori(df, min_support=0.4, use_colnames=True)\n",
    "rules = association_rules(frequent_itemsets, metric=\"confidence\", min_threshold=0.6)\n",
    "\n",
    "print(\"Frequent Itemsets:\")\n",
    "print(frequent_itemsets)\n",
    "print(\"\\nAssociation Rules:\")\n",
    "print(rules)\n",
    "\n",
    "# Task 2: Apriori Implementation with a Groceries Dataset\n",
    "# Let's assume we have a CSV file with transactions\n",
    "# For simplicity, we'll use the same transactions as above\n",
    "# In a real-world scenario, you would load the data from a CSV file\n",
    "\n",
    "frequent_itemsets = apriori(df, min_support=0.4, use_colnames=True)\n",
    "rules = association_rules(frequent_itemsets, metric=\"confidence\", min_threshold=0.6)\n",
    "\n",
    "print(\"\\nFrequent Itemsets (Groceries Dataset):\")\n",
    "print(frequent_itemsets)\n",
    "print(\"\\nAssociation Rules (Groceries Dataset):\")\n",
    "print(rules)\n",
    "\n",
    "# Task 3: Finding Frequent Itemsets in Large Dataset\n",
    "import random\n",
    "\n",
    "# Generate a synthetic dataset\n",
    "large_transactions = []\n",
    "for _ in range(1000):\n",
    "    transaction = random.sample(['milk', 'bread', 'eggs', 'cheese', 'apples', 'bananas'], random.randint(1, 5))\n",
    "    large_transactions.append(transaction)\n",
    "\n",
    "te = TransactionEncoder()\n",
    "te_ary = te.fit_transform(large_transactions)\n",
    "df_large = pd.DataFrame(te_ary, columns=te.columns_)\n",
    "\n",
    "frequent_itemsets = apriori(df_large, min_support=0.1, use_colnames=True)\n",
    "\n",
    "print(\"\\nFrequent Itemsets (Large Dataset):\")\n",
    "print(frequent_itemsets)\n"
   ]
  }
 ],
 "metadata": {
  "kernelspec": {
   "display_name": "Python 3",
   "language": "python",
   "name": "python3"
  },
  "language_info": {
   "codemirror_mode": {
    "name": "ipython",
    "version": 3
   },
   "file_extension": ".py",
   "mimetype": "text/x-python",
   "name": "python",
   "nbconvert_exporter": "python",
   "pygments_lexer": "ipython3",
   "version": "3.10.12"
  }
 },
 "nbformat": 4,
 "nbformat_minor": 2
}
