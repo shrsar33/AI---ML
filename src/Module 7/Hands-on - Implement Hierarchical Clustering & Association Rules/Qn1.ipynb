{
 "cells": [
  {
   "cell_type": "code",
   "execution_count": 1,
   "metadata": {},
   "outputs": [],
   "source": [
    "\n",
    "import numpy as np\n",
    "import matplotlib.pyplot as plt\n",
    "from scipy.cluster.hierarchy import dendrogram, linkage\n",
    "from sklearn.datasets import load_iris\n",
    "\n",
    "# Task 1: Hierarchical Clustering with Simple 2D Data\n",
    "np.random.seed(0)\n",
    "data = np.random.multivariate_normal([0, 0], [[1, .75], [.75, 1]], 50)\n",
    "data = np.vstack((data, np.random.multivariate_normal([5, 5], [[1, .75], [.75, 1]], 50)))\n",
    "\n",
    "plt.figure(figsize=(8, 6))\n",
    "plt.scatter(data[:, 0], data[:, 1])\n",
    "plt.title(\"Simple 2D Dataset\")\n",
    "plt.show()\n",
    "\n",
    "linkage_matrix = linkage(data, method='ward')\n",
    "plt.figure(figsize=(8, 6))\n",
    "dendrogram(linkage_matrix)\n",
    "plt.title(\"Hierarchical Clustering Dendrogram\")\n",
    "plt.show()\n",
    "\n",
    "# Task 2: Hierarchical Clustering with Iris Dataset\n",
    "iris = load_iris()\n",
    "data = iris.data\n",
    "\n",
    "linkage_matrix = linkage(data, method='ward')\n",
    "plt.figure(figsize=(8, 6))\n",
    "dendrogram(linkage_matrix)\n",
    "plt.title(\"Hierarchical Clustering Dendrogram (Iris Dataset)\")\n",
    "plt.show()\n",
    "\n",
    "# Determine the number of clusters from the dendrogram\n",
    "from scipy.cluster.hierarchy import fcluster\n",
    "clusters = fcluster(linkage_matrix, 3, criterion='maxclust')\n",
    "print(\"Cluster labels:\")\n",
    "print(clusters)\n",
    "\n",
    "# Task 3: Hierarchical Clustering with Random Data\n",
    "np.random.seed(0)\n",
    "data = np.random.rand(100, 2)\n",
    "\n",
    "linkage_methods = ['single', 'complete', 'ward']\n",
    "for method in linkage_methods:\n",
    "    linkage_matrix = linkage(data, method=method)\n",
    "    plt.figure(figsize=(8, 6))\n",
    "    dendrogram(linkage_matrix)\n",
    "    plt.title(f\"Hierarchical Clustering Dendrogram ({method.capitalize()} Linkage)\")\n",
    "    plt.show()\n"
   ]
  }
 ],
 "metadata": {
  "kernelspec": {
   "display_name": "Python 3",
   "language": "python",
   "name": "python3"
  },
  "language_info": {
   "codemirror_mode": {
    "name": "ipython",
    "version": 3
   },
   "file_extension": ".py",
   "mimetype": "text/x-python",
   "name": "python",
   "nbconvert_exporter": "python",
   "pygments_lexer": "ipython3",
   "version": "3.10.12"
  }
 },
 "nbformat": 4,
 "nbformat_minor": 2
}
