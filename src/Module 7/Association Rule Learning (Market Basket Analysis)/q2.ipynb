{
 "cells": [
  {
   "cell_type": "code",
   "execution_count": null,
   "metadata": {},
   "outputs": [],
   "source": [
    "import pandas as pd\n",
    "from mlxtend.frequent_patterns import fpgrowth, association_rules\n",
    "\n",
    "# Define the transactional data\n",
    "transactions = [\n",
    "    ['milk', 'bread', 'eggs'],\n",
    "    ['milk', 'eggs'],\n",
    "    ['bread', 'eggs'],\n",
    "    ['milk', 'bread', 'eggs', 'cheese'],\n",
    "    ['milk', 'bread']\n",
    "]\n",
    "\n",
    "# Convert the transactional data into a pandas DataFrame\n",
    "itemsets = []\n",
    "for transaction in transactions:\n",
    "    itemset = {}\n",
    "    for item in set(transactions[0] + transactions[1] + transactions[2] + transactions[3] + transactions[4]):\n",
    "        itemset[item] = 1 if item in transaction else 0\n",
    "    itemsets.append(itemset)\n",
    "\n",
    "df = pd.DataFrame(itemsets)\n",
    "\n",
    "# Apply the FP-Growth algorithm\n",
    "frequent_itemsets = fpgrowth(df, min_support=0.4, use_colnames=True)\n",
    "\n",
    "# Generate association rules\n",
    "rules = association_rules(frequent_itemsets, metric=\"confidence\", min_threshold=0.6)\n",
    "\n",
    "print(\"Frequent Itemsets:\")\n",
    "print(frequent_itemsets)\n",
    "print(\"\\nAssociation Rules:\")\n",
    "print(rules)\n"
   ]
  }
 ],
 "metadata": {
  "kernelspec": {
   "display_name": "Python 3",
   "language": "python",
   "name": "python3"
  },
  "language_info": {
   "codemirror_mode": {
    "name": "ipython",
    "version": 3
   },
   "file_extension": ".py",
   "mimetype": "text/x-python",
   "name": "python",
   "nbconvert_exporter": "python",
   "pygments_lexer": "ipython3",
   "version": "3.10.12"
  }
 },
 "nbformat": 4,
 "nbformat_minor": 2
}
