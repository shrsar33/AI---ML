{
 "cells": [
  {
   "cell_type": "code",
   "execution_count": null,
   "metadata": {},
   "outputs": [],
   "source": [
    "import pandas as pd\n",
    "from mlxtend.frequent_patterns import apriori, association_rules\n",
    "\n",
    "# Sample transactional data\n",
    "transactions = [\n",
    "    ['A', 'B', 'C'],  # Legitimate transaction\n",
    "    ['A', 'B', 'D'],  # Legitimate transaction\n",
    "    ['A', 'C', 'D'],  # Legitimate transaction\n",
    "    ['B', 'D', 'E'],  # Potentially fraudulent transaction\n",
    "    ['B', 'D', 'E', 'F'],  # Potentially fraudulent transaction\n",
    "    ['A', 'B', 'C'],  # Legitimate transaction\n",
    "    ['A', 'B', 'D'],  # Legitimate transaction\n",
    "    ['B', 'D', 'E'],  # Potentially fraudulent transaction\n",
    "]\n",
    "\n",
    "# Convert the transactional data into a pandas DataFrame\n",
    "itemsets = []\n",
    "for transaction in transactions:\n",
    "    itemset = {}\n",
    "    for item in set([item for sublist in transactions for item in sublist]):\n",
    "        itemset[item] = 1 if item in transaction else 0\n",
    "    itemsets.append(itemset)\n",
    "\n",
    "df = pd.DataFrame(itemsets)\n",
    "\n",
    "# Apply the Apriori algorithm\n",
    "frequent_itemsets = apriori(df, min_support=0.2, use_colnames=True)\n",
    "\n",
    "# Generate association rules\n",
    "rules = association_rules(frequent_itemsets, metric=\"confidence\", min_threshold=0.6)\n",
    "\n",
    "# Identify potentially fraudulent transactions\n",
    "fraudulent_itemsets = rules[(rules['confidence'] > 0.8) & (rules['lift'] > 1)]\n",
    "\n",
    "print(\"Association Rules:\")\n",
    "print(rules)\n",
    "print(\"\\nPotentially Fraudulent Itemsets:\")\n",
    "print(fraudulent_itemsets)\n",
    "\n"
   ]
  }
 ],
 "metadata": {
  "kernelspec": {
   "display_name": "Python 3",
   "language": "python",
   "name": "python3"
  },
  "language_info": {
   "codemirror_mode": {
    "name": "ipython",
    "version": 3
   },
   "file_extension": ".py",
   "mimetype": "text/x-python",
   "name": "python",
   "nbconvert_exporter": "python",
   "pygments_lexer": "ipython3",
   "version": "3.10.12"
  }
 },
 "nbformat": 4,
 "nbformat_minor": 2
}
